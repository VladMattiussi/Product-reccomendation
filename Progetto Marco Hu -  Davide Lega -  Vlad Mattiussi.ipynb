{
 "cells": [
  {
   "cell_type": "markdown",
   "metadata": {},
   "source": [
    "<h3> Progetto di : Marco Hu , Davide Lega, Vlad Mattiussi.</h3>"
   ]
  },
  {
   "cell_type": "markdown",
   "metadata": {},
   "source": [
    "<h1> 1) Descrizione del problema</h1> "
   ]
  },
  {
   "cell_type": "markdown",
   "metadata": {},
   "source": [
    "<h3>1.1 Presentazione del dominio applicativo </h3>\n",
    "\n",
    "Il progetto consiste nel analizzare dati recuperati dal sito <link> https://myanimelist.net/topanime.php </link> riguardanti la valutazione data da un utenti ad anime (cartoni animati giapponesi), in particolare lo scopo del progetto è quello di svolgere un analisi di reccomendation , dove, dato un utente, consigliamo i migliori n anime in base ai suoi gusti."
   ]
  },
  {
   "cell_type": "markdown",
   "metadata": {},
   "source": [
    "<h3>1.2 Contenuto</h3>\n",
    "\n",
    "Utilizzeremo due file csv rispettivamente rating.csv e anime.csv .\n",
    "\n",
    "Da rating.csv riusciremo ottenere un DataFrame che mostrerà tuple rappresentanti singole valutazioni fatte da utenti (identificati tramite id) ad anime (identificati tramite id) rating rappresenta il voto dato (-1 se la valutazione non mai avvenuta)\n",
    "\n",
    "Da anime.csv otteniamo invece un DataFrame che contiene informazioni aggiuntive rispetto ai singoli anime"
   ]
  },
  {
   "cell_type": "markdown",
   "metadata": {},
   "source": [
    "<h3>1.3 Glossario delle variabili </h3>\n",
    "\n",
    "All interno di rating.csv :\n",
    "\n",
    "  <li>user_id : Identificativo univoco rappresentante un utente.</li> \n",
    "  <li>anime_id : Identificativo univoco rappresentante un anime.</li> \n",
    "  <li>rating : Voto dato dall' utente identificato con user_id all'anime                       identificato con anime_id. </li> \n",
    "  \n",
    "All interno di anime.csv :\n",
    "\n",
    "\n",
    "<li>anime_id : Identificativo univoco rappresentante un anime.</li> </li>\n",
    "<li>name : nome dell anime </li>\n",
    "<li>genre : tags rappresentati il genere di appartenenza dell anime</li>\n",
    "<li>type : tags rappresentante il tipo di pubblicazione del anime film,tv,oav..</li>\n",
    "<li>episodes : numero di apisodi dell anime</li>\n",
    "<li>rating : media dei voti ricevuti dall anime </li>\n",
    "<li>members : numero di persone che lo hanno aggiunto alla loro animelist </li>\n",
    "  "
   ]
  },
  {
   "cell_type": "markdown",
   "metadata": {},
   "source": [
    "<h1>2) Caricamento e preparazione dei dati</h1>"
   ]
  },
  {
   "cell_type": "markdown",
   "metadata": {},
   "source": [
    "<h3>2.1 Setup delle librerie utilizzate</h3>"
   ]
  },
  {
   "cell_type": "code",
   "execution_count": 1,
   "metadata": {},
   "outputs": [],
   "source": [
    "import numpy as np\n",
    "import pandas as pd\n",
    "import matplotlib.pyplot as plt\n",
    "from sklearn.model_selection import train_test_split"
   ]
  },
  {
   "cell_type": "code",
   "execution_count": 2,
   "metadata": {},
   "outputs": [],
   "source": [
    "#conda install -c conda-forge scikit-surprise"
   ]
  },
  {
   "cell_type": "markdown",
   "metadata": {},
   "source": [
    "<h3>2.2 Caricamento dei dati dei file csv</h3>"
   ]
  },
  {
   "cell_type": "code",
   "execution_count": 3,
   "metadata": {},
   "outputs": [],
   "source": [
    "AnimeDF = pd.read_csv('anime.csv')\n",
    "RatingDF = pd.read_csv('rating.csv')"
   ]
  },
  {
   "cell_type": "markdown",
   "metadata": {},
   "source": [
    "<h1>3) Analisi Esplorativa</h1>"
   ]
  },
  {
   "cell_type": "markdown",
   "metadata": {},
   "source": [
    "Mostriamo ora la forma e le informazioni principali contenute in RatingDF"
   ]
  },
  {
   "cell_type": "code",
   "execution_count": 4,
   "metadata": {},
   "outputs": [
    {
     "data": {
      "text/html": [
       "<div>\n",
       "<style scoped>\n",
       "    .dataframe tbody tr th:only-of-type {\n",
       "        vertical-align: middle;\n",
       "    }\n",
       "\n",
       "    .dataframe tbody tr th {\n",
       "        vertical-align: top;\n",
       "    }\n",
       "\n",
       "    .dataframe thead th {\n",
       "        text-align: right;\n",
       "    }\n",
       "</style>\n",
       "<table border=\"1\" class=\"dataframe\">\n",
       "  <thead>\n",
       "    <tr style=\"text-align: right;\">\n",
       "      <th></th>\n",
       "      <th>user_id</th>\n",
       "      <th>anime_id</th>\n",
       "      <th>rating</th>\n",
       "    </tr>\n",
       "  </thead>\n",
       "  <tbody>\n",
       "    <tr>\n",
       "      <th>0</th>\n",
       "      <td>1</td>\n",
       "      <td>20</td>\n",
       "      <td>-1</td>\n",
       "    </tr>\n",
       "    <tr>\n",
       "      <th>1</th>\n",
       "      <td>1</td>\n",
       "      <td>24</td>\n",
       "      <td>-1</td>\n",
       "    </tr>\n",
       "    <tr>\n",
       "      <th>2</th>\n",
       "      <td>1</td>\n",
       "      <td>79</td>\n",
       "      <td>-1</td>\n",
       "    </tr>\n",
       "    <tr>\n",
       "      <th>3</th>\n",
       "      <td>1</td>\n",
       "      <td>226</td>\n",
       "      <td>-1</td>\n",
       "    </tr>\n",
       "    <tr>\n",
       "      <th>4</th>\n",
       "      <td>1</td>\n",
       "      <td>241</td>\n",
       "      <td>-1</td>\n",
       "    </tr>\n",
       "    <tr>\n",
       "      <th>5</th>\n",
       "      <td>1</td>\n",
       "      <td>355</td>\n",
       "      <td>-1</td>\n",
       "    </tr>\n",
       "    <tr>\n",
       "      <th>6</th>\n",
       "      <td>1</td>\n",
       "      <td>356</td>\n",
       "      <td>-1</td>\n",
       "    </tr>\n",
       "    <tr>\n",
       "      <th>7</th>\n",
       "      <td>1</td>\n",
       "      <td>442</td>\n",
       "      <td>-1</td>\n",
       "    </tr>\n",
       "    <tr>\n",
       "      <th>8</th>\n",
       "      <td>1</td>\n",
       "      <td>487</td>\n",
       "      <td>-1</td>\n",
       "    </tr>\n",
       "    <tr>\n",
       "      <th>9</th>\n",
       "      <td>1</td>\n",
       "      <td>846</td>\n",
       "      <td>-1</td>\n",
       "    </tr>\n",
       "  </tbody>\n",
       "</table>\n",
       "</div>"
      ],
      "text/plain": [
       "   user_id  anime_id  rating\n",
       "0        1        20      -1\n",
       "1        1        24      -1\n",
       "2        1        79      -1\n",
       "3        1       226      -1\n",
       "4        1       241      -1\n",
       "5        1       355      -1\n",
       "6        1       356      -1\n",
       "7        1       442      -1\n",
       "8        1       487      -1\n",
       "9        1       846      -1"
      ]
     },
     "execution_count": 4,
     "metadata": {},
     "output_type": "execute_result"
    }
   ],
   "source": [
    "RatingDF.head(10)"
   ]
  },
  {
   "cell_type": "code",
   "execution_count": 5,
   "metadata": {},
   "outputs": [
    {
     "data": {
      "text/html": [
       "<div>\n",
       "<style scoped>\n",
       "    .dataframe tbody tr th:only-of-type {\n",
       "        vertical-align: middle;\n",
       "    }\n",
       "\n",
       "    .dataframe tbody tr th {\n",
       "        vertical-align: top;\n",
       "    }\n",
       "\n",
       "    .dataframe thead th {\n",
       "        text-align: right;\n",
       "    }\n",
       "</style>\n",
       "<table border=\"1\" class=\"dataframe\">\n",
       "  <thead>\n",
       "    <tr style=\"text-align: right;\">\n",
       "      <th></th>\n",
       "      <th>count</th>\n",
       "      <th>mean</th>\n",
       "      <th>std</th>\n",
       "      <th>min</th>\n",
       "      <th>25%</th>\n",
       "      <th>50%</th>\n",
       "      <th>75%</th>\n",
       "      <th>max</th>\n",
       "    </tr>\n",
       "  </thead>\n",
       "  <tbody>\n",
       "    <tr>\n",
       "      <th>user_id</th>\n",
       "      <td>7813737.0</td>\n",
       "      <td>36727.956745</td>\n",
       "      <td>20997.946119</td>\n",
       "      <td>1.0</td>\n",
       "      <td>18974.0</td>\n",
       "      <td>36791.0</td>\n",
       "      <td>54757.0</td>\n",
       "      <td>73516.0</td>\n",
       "    </tr>\n",
       "    <tr>\n",
       "      <th>anime_id</th>\n",
       "      <td>7813737.0</td>\n",
       "      <td>8909.072104</td>\n",
       "      <td>8883.949636</td>\n",
       "      <td>1.0</td>\n",
       "      <td>1240.0</td>\n",
       "      <td>6213.0</td>\n",
       "      <td>14093.0</td>\n",
       "      <td>34519.0</td>\n",
       "    </tr>\n",
       "    <tr>\n",
       "      <th>rating</th>\n",
       "      <td>7813737.0</td>\n",
       "      <td>6.144030</td>\n",
       "      <td>3.727800</td>\n",
       "      <td>-1.0</td>\n",
       "      <td>6.0</td>\n",
       "      <td>7.0</td>\n",
       "      <td>9.0</td>\n",
       "      <td>10.0</td>\n",
       "    </tr>\n",
       "  </tbody>\n",
       "</table>\n",
       "</div>"
      ],
      "text/plain": [
       "              count          mean           std  min      25%      50%  \\\n",
       "user_id   7813737.0  36727.956745  20997.946119  1.0  18974.0  36791.0   \n",
       "anime_id  7813737.0   8909.072104   8883.949636  1.0   1240.0   6213.0   \n",
       "rating    7813737.0      6.144030      3.727800 -1.0      6.0      7.0   \n",
       "\n",
       "              75%      max  \n",
       "user_id   54757.0  73516.0  \n",
       "anime_id  14093.0  34519.0  \n",
       "rating        9.0     10.0  "
      ]
     },
     "execution_count": 5,
     "metadata": {},
     "output_type": "execute_result"
    }
   ],
   "source": [
    "RatingDF.describe().T"
   ]
  },
  {
   "cell_type": "markdown",
   "metadata": {},
   "source": [
    "Mostriamo ora la forma e le informazioni principali contenute in AnimeDF"
   ]
  },
  {
   "cell_type": "code",
   "execution_count": 6,
   "metadata": {},
   "outputs": [
    {
     "data": {
      "text/html": [
       "<div>\n",
       "<style scoped>\n",
       "    .dataframe tbody tr th:only-of-type {\n",
       "        vertical-align: middle;\n",
       "    }\n",
       "\n",
       "    .dataframe tbody tr th {\n",
       "        vertical-align: top;\n",
       "    }\n",
       "\n",
       "    .dataframe thead th {\n",
       "        text-align: right;\n",
       "    }\n",
       "</style>\n",
       "<table border=\"1\" class=\"dataframe\">\n",
       "  <thead>\n",
       "    <tr style=\"text-align: right;\">\n",
       "      <th></th>\n",
       "      <th>anime_id</th>\n",
       "      <th>name</th>\n",
       "      <th>genre</th>\n",
       "      <th>type</th>\n",
       "      <th>episodes</th>\n",
       "      <th>rating</th>\n",
       "      <th>members</th>\n",
       "    </tr>\n",
       "  </thead>\n",
       "  <tbody>\n",
       "    <tr>\n",
       "      <th>0</th>\n",
       "      <td>32281</td>\n",
       "      <td>Kimi no Na wa.</td>\n",
       "      <td>Drama, Romance, School, Supernatural</td>\n",
       "      <td>Movie</td>\n",
       "      <td>1</td>\n",
       "      <td>9.37</td>\n",
       "      <td>200630</td>\n",
       "    </tr>\n",
       "    <tr>\n",
       "      <th>1</th>\n",
       "      <td>5114</td>\n",
       "      <td>Fullmetal Alchemist: Brotherhood</td>\n",
       "      <td>Action, Adventure, Drama, Fantasy, Magic, Mili...</td>\n",
       "      <td>TV</td>\n",
       "      <td>64</td>\n",
       "      <td>9.26</td>\n",
       "      <td>793665</td>\n",
       "    </tr>\n",
       "    <tr>\n",
       "      <th>2</th>\n",
       "      <td>28977</td>\n",
       "      <td>Gintama°</td>\n",
       "      <td>Action, Comedy, Historical, Parody, Samurai, S...</td>\n",
       "      <td>TV</td>\n",
       "      <td>51</td>\n",
       "      <td>9.25</td>\n",
       "      <td>114262</td>\n",
       "    </tr>\n",
       "    <tr>\n",
       "      <th>3</th>\n",
       "      <td>9253</td>\n",
       "      <td>Steins;Gate</td>\n",
       "      <td>Sci-Fi, Thriller</td>\n",
       "      <td>TV</td>\n",
       "      <td>24</td>\n",
       "      <td>9.17</td>\n",
       "      <td>673572</td>\n",
       "    </tr>\n",
       "    <tr>\n",
       "      <th>4</th>\n",
       "      <td>9969</td>\n",
       "      <td>Gintama&amp;#039;</td>\n",
       "      <td>Action, Comedy, Historical, Parody, Samurai, S...</td>\n",
       "      <td>TV</td>\n",
       "      <td>51</td>\n",
       "      <td>9.16</td>\n",
       "      <td>151266</td>\n",
       "    </tr>\n",
       "    <tr>\n",
       "      <th>5</th>\n",
       "      <td>32935</td>\n",
       "      <td>Haikyuu!!: Karasuno Koukou VS Shiratorizawa Ga...</td>\n",
       "      <td>Comedy, Drama, School, Shounen, Sports</td>\n",
       "      <td>TV</td>\n",
       "      <td>10</td>\n",
       "      <td>9.15</td>\n",
       "      <td>93351</td>\n",
       "    </tr>\n",
       "    <tr>\n",
       "      <th>6</th>\n",
       "      <td>11061</td>\n",
       "      <td>Hunter x Hunter (2011)</td>\n",
       "      <td>Action, Adventure, Shounen, Super Power</td>\n",
       "      <td>TV</td>\n",
       "      <td>148</td>\n",
       "      <td>9.13</td>\n",
       "      <td>425855</td>\n",
       "    </tr>\n",
       "    <tr>\n",
       "      <th>7</th>\n",
       "      <td>820</td>\n",
       "      <td>Ginga Eiyuu Densetsu</td>\n",
       "      <td>Drama, Military, Sci-Fi, Space</td>\n",
       "      <td>OVA</td>\n",
       "      <td>110</td>\n",
       "      <td>9.11</td>\n",
       "      <td>80679</td>\n",
       "    </tr>\n",
       "    <tr>\n",
       "      <th>8</th>\n",
       "      <td>15335</td>\n",
       "      <td>Gintama Movie: Kanketsu-hen - Yorozuya yo Eien...</td>\n",
       "      <td>Action, Comedy, Historical, Parody, Samurai, S...</td>\n",
       "      <td>Movie</td>\n",
       "      <td>1</td>\n",
       "      <td>9.10</td>\n",
       "      <td>72534</td>\n",
       "    </tr>\n",
       "    <tr>\n",
       "      <th>9</th>\n",
       "      <td>15417</td>\n",
       "      <td>Gintama&amp;#039;: Enchousen</td>\n",
       "      <td>Action, Comedy, Historical, Parody, Samurai, S...</td>\n",
       "      <td>TV</td>\n",
       "      <td>13</td>\n",
       "      <td>9.11</td>\n",
       "      <td>81109</td>\n",
       "    </tr>\n",
       "  </tbody>\n",
       "</table>\n",
       "</div>"
      ],
      "text/plain": [
       "   anime_id                                               name  \\\n",
       "0     32281                                     Kimi no Na wa.   \n",
       "1      5114                   Fullmetal Alchemist: Brotherhood   \n",
       "2     28977                                           Gintama°   \n",
       "3      9253                                        Steins;Gate   \n",
       "4      9969                                      Gintama&#039;   \n",
       "5     32935  Haikyuu!!: Karasuno Koukou VS Shiratorizawa Ga...   \n",
       "6     11061                             Hunter x Hunter (2011)   \n",
       "7       820                               Ginga Eiyuu Densetsu   \n",
       "8     15335  Gintama Movie: Kanketsu-hen - Yorozuya yo Eien...   \n",
       "9     15417                           Gintama&#039;: Enchousen   \n",
       "\n",
       "                                               genre   type episodes  rating  \\\n",
       "0               Drama, Romance, School, Supernatural  Movie        1    9.37   \n",
       "1  Action, Adventure, Drama, Fantasy, Magic, Mili...     TV       64    9.26   \n",
       "2  Action, Comedy, Historical, Parody, Samurai, S...     TV       51    9.25   \n",
       "3                                   Sci-Fi, Thriller     TV       24    9.17   \n",
       "4  Action, Comedy, Historical, Parody, Samurai, S...     TV       51    9.16   \n",
       "5             Comedy, Drama, School, Shounen, Sports     TV       10    9.15   \n",
       "6            Action, Adventure, Shounen, Super Power     TV      148    9.13   \n",
       "7                     Drama, Military, Sci-Fi, Space    OVA      110    9.11   \n",
       "8  Action, Comedy, Historical, Parody, Samurai, S...  Movie        1    9.10   \n",
       "9  Action, Comedy, Historical, Parody, Samurai, S...     TV       13    9.11   \n",
       "\n",
       "   members  \n",
       "0   200630  \n",
       "1   793665  \n",
       "2   114262  \n",
       "3   673572  \n",
       "4   151266  \n",
       "5    93351  \n",
       "6   425855  \n",
       "7    80679  \n",
       "8    72534  \n",
       "9    81109  "
      ]
     },
     "execution_count": 6,
     "metadata": {},
     "output_type": "execute_result"
    }
   ],
   "source": [
    "AnimeDF.head(10)"
   ]
  },
  {
   "cell_type": "code",
   "execution_count": 7,
   "metadata": {},
   "outputs": [
    {
     "data": {
      "text/html": [
       "<div>\n",
       "<style scoped>\n",
       "    .dataframe tbody tr th:only-of-type {\n",
       "        vertical-align: middle;\n",
       "    }\n",
       "\n",
       "    .dataframe tbody tr th {\n",
       "        vertical-align: top;\n",
       "    }\n",
       "\n",
       "    .dataframe thead th {\n",
       "        text-align: right;\n",
       "    }\n",
       "</style>\n",
       "<table border=\"1\" class=\"dataframe\">\n",
       "  <thead>\n",
       "    <tr style=\"text-align: right;\">\n",
       "      <th></th>\n",
       "      <th>count</th>\n",
       "      <th>mean</th>\n",
       "      <th>std</th>\n",
       "      <th>min</th>\n",
       "      <th>25%</th>\n",
       "      <th>50%</th>\n",
       "      <th>75%</th>\n",
       "      <th>max</th>\n",
       "    </tr>\n",
       "  </thead>\n",
       "  <tbody>\n",
       "    <tr>\n",
       "      <th>anime_id</th>\n",
       "      <td>12294.0</td>\n",
       "      <td>14058.221653</td>\n",
       "      <td>11455.294701</td>\n",
       "      <td>1.00</td>\n",
       "      <td>3484.25</td>\n",
       "      <td>10260.50</td>\n",
       "      <td>24794.50</td>\n",
       "      <td>34527.0</td>\n",
       "    </tr>\n",
       "    <tr>\n",
       "      <th>rating</th>\n",
       "      <td>12064.0</td>\n",
       "      <td>6.473902</td>\n",
       "      <td>1.026746</td>\n",
       "      <td>1.67</td>\n",
       "      <td>5.88</td>\n",
       "      <td>6.57</td>\n",
       "      <td>7.18</td>\n",
       "      <td>10.0</td>\n",
       "    </tr>\n",
       "    <tr>\n",
       "      <th>members</th>\n",
       "      <td>12294.0</td>\n",
       "      <td>18071.338864</td>\n",
       "      <td>54820.676925</td>\n",
       "      <td>5.00</td>\n",
       "      <td>225.00</td>\n",
       "      <td>1550.00</td>\n",
       "      <td>9437.00</td>\n",
       "      <td>1013917.0</td>\n",
       "    </tr>\n",
       "  </tbody>\n",
       "</table>\n",
       "</div>"
      ],
      "text/plain": [
       "            count          mean           std   min      25%       50%  \\\n",
       "anime_id  12294.0  14058.221653  11455.294701  1.00  3484.25  10260.50   \n",
       "rating    12064.0      6.473902      1.026746  1.67     5.88      6.57   \n",
       "members   12294.0  18071.338864  54820.676925  5.00   225.00   1550.00   \n",
       "\n",
       "               75%        max  \n",
       "anime_id  24794.50    34527.0  \n",
       "rating        7.18       10.0  \n",
       "members    9437.00  1013917.0  "
      ]
     },
     "execution_count": 7,
     "metadata": {},
     "output_type": "execute_result"
    }
   ],
   "source": [
    "AnimeDF.describe().T"
   ]
  },
  {
   "cell_type": "code",
   "execution_count": 8,
   "metadata": {},
   "outputs": [
    {
     "data": {
      "text/plain": [
       "user_id     73515\n",
       "anime_id    11200\n",
       "rating         11\n",
       "dtype: int64"
      ]
     },
     "execution_count": 8,
     "metadata": {},
     "output_type": "execute_result"
    }
   ],
   "source": [
    "RatingDF.nunique()"
   ]
  },
  {
   "cell_type": "markdown",
   "metadata": {},
   "source": [
    "il nostro DataFrame conta 73515 utenti diversi e 11200 anime "
   ]
  },
  {
   "cell_type": "markdown",
   "metadata": {},
   "source": [
    "<p>Grafico della distribuzione dei voti ( -1 indica un anime non votato dall'utente )</p>"
   ]
  },
  {
   "cell_type": "code",
   "execution_count": 9,
   "metadata": {},
   "outputs": [
    {
     "data": {
      "text/plain": [
       "<matplotlib.axes._subplots.AxesSubplot at 0x1376563af88>"
      ]
     },
     "execution_count": 9,
     "metadata": {},
     "output_type": "execute_result"
    },
    {
     "data": {
      "image/png": "[encoded data removed]",
      "text/plain": [
       "<Figure size 720x288 with 1 Axes>"
      ]
     },
     "metadata": {
      "needs_background": "light"
     },
     "output_type": "display_data"
    }
   ],
   "source": [
    "RatingDF[\"rating\"].value_counts().sort_index().plot.bar(figsize=(10, 4))"
   ]
  },
  {
   "cell_type": "markdown",
   "metadata": {},
   "source": [
    "Eliminiamo tutti le tuple che indicano una mancata valutazione da parte di un'utente per un determinato anime, poichè sono inutili."
   ]
  },
  {
   "cell_type": "code",
   "execution_count": 10,
   "metadata": {},
   "outputs": [],
   "source": [
    "CleanDF = RatingDF[RatingDF[\"rating\"] != -1]"
   ]
  },
  {
   "cell_type": "markdown",
   "metadata": {},
   "source": [
    "Grafichiamo ora la distribuzione dei voti inerente solo alle valutazioni effettuate "
   ]
  },
  {
   "cell_type": "code",
   "execution_count": 11,
   "metadata": {
    "scrolled": true
   },
   "outputs": [
    {
     "data": {
      "text/plain": [
       "<matplotlib.axes._subplots.AxesSubplot at 0x1376575ee08>"
      ]
     },
     "execution_count": 11,
     "metadata": {},
     "output_type": "execute_result"
    },
    {
     "data": {
      "image/png": "[encoded data removed]",
      "text/plain": [
       "<Figure size 720x288 with 1 Axes>"
      ]
     },
     "metadata": {
      "needs_background": "light"
     },
     "output_type": "display_data"
    }
   ],
   "source": [
    "CleanDF[\"rating\"].value_counts().sort_index().plot.bar(figsize=(10, 4))"
   ]
  },
  {
   "cell_type": "code",
   "execution_count": 12,
   "metadata": {},
   "outputs": [
    {
     "data": {
      "text/html": [
       "<div>\n",
       "<style scoped>\n",
       "    .dataframe tbody tr th:only-of-type {\n",
       "        vertical-align: middle;\n",
       "    }\n",
       "\n",
       "    .dataframe tbody tr th {\n",
       "        vertical-align: top;\n",
       "    }\n",
       "\n",
       "    .dataframe thead th {\n",
       "        text-align: right;\n",
       "    }\n",
       "</style>\n",
       "<table border=\"1\" class=\"dataframe\">\n",
       "  <thead>\n",
       "    <tr style=\"text-align: right;\">\n",
       "      <th></th>\n",
       "      <th>user_id</th>\n",
       "      <th>anime_id</th>\n",
       "      <th>rating</th>\n",
       "    </tr>\n",
       "  </thead>\n",
       "  <tbody>\n",
       "    <tr>\n",
       "      <th>47</th>\n",
       "      <td>1</td>\n",
       "      <td>8074</td>\n",
       "      <td>10</td>\n",
       "    </tr>\n",
       "    <tr>\n",
       "      <th>81</th>\n",
       "      <td>1</td>\n",
       "      <td>11617</td>\n",
       "      <td>10</td>\n",
       "    </tr>\n",
       "    <tr>\n",
       "      <th>83</th>\n",
       "      <td>1</td>\n",
       "      <td>11757</td>\n",
       "      <td>10</td>\n",
       "    </tr>\n",
       "    <tr>\n",
       "      <th>101</th>\n",
       "      <td>1</td>\n",
       "      <td>15451</td>\n",
       "      <td>10</td>\n",
       "    </tr>\n",
       "    <tr>\n",
       "      <th>153</th>\n",
       "      <td>2</td>\n",
       "      <td>11771</td>\n",
       "      <td>10</td>\n",
       "    </tr>\n",
       "  </tbody>\n",
       "</table>\n",
       "</div>"
      ],
      "text/plain": [
       "     user_id  anime_id  rating\n",
       "47         1      8074      10\n",
       "81         1     11617      10\n",
       "83         1     11757      10\n",
       "101        1     15451      10\n",
       "153        2     11771      10"
      ]
     },
     "execution_count": 12,
     "metadata": {},
     "output_type": "execute_result"
    }
   ],
   "source": [
    "CleanDF.head(5)"
   ]
  },
  {
   "cell_type": "markdown",
   "metadata": {},
   "source": [
    "Limitiamo il data set alle prime 50 occorrenze per avere un'idea sulla distribuzione dei dati, in particolare si vuole vedere quanti voti da' un utente mediamente e quanti voti riceve un anime, in media"
   ]
  },
  {
   "cell_type": "code",
   "execution_count": 13,
   "metadata": {},
   "outputs": [],
   "source": [
    "CleanDFlimit = CleanDF[CleanDF[\"user_id\"]<50]\n",
    "CleanDFlimit2 = CleanDF[CleanDF[\"anime_id\"]<50]"
   ]
  },
  {
   "cell_type": "markdown",
   "metadata": {},
   "source": [
    "Numero voti dati da ogni utente (primi 50)"
   ]
  },
  {
   "cell_type": "code",
   "execution_count": 14,
   "metadata": {},
   "outputs": [
    {
     "data": {
      "text/plain": [
       "<matplotlib.axes._subplots.AxesSubplot at 0x1370b3800c8>"
      ]
     },
     "execution_count": 14,
     "metadata": {},
     "output_type": "execute_result"
    },
    {
     "data": {
      "image/png": "[encoded data removed]",
      "text/plain": [
       "<Figure size 432x288 with 1 Axes>"
      ]
     },
     "metadata": {
      "needs_background": "light"
     },
     "output_type": "display_data"
    }
   ],
   "source": [
    "CleanDFlimit.groupby(\"user_id\")[\"rating\"].count().plot.bar()"
   ]
  },
  {
   "cell_type": "markdown",
   "metadata": {},
   "source": [
    "Numero voti ricevuti per ogni anime (primi 50)"
   ]
  },
  {
   "cell_type": "code",
   "execution_count": 15,
   "metadata": {},
   "outputs": [
    {
     "data": {
      "text/plain": [
       "<matplotlib.axes._subplots.AxesSubplot at 0x1370b48f808>"
      ]
     },
     "execution_count": 15,
     "metadata": {},
     "output_type": "execute_result"
    },
    {
     "data": {
      "image/png": "[encoded data removed]",
      "text/plain": [
       "<Figure size 432x288 with 1 Axes>"
      ]
     },
     "metadata": {
      "needs_background": "light"
     },
     "output_type": "display_data"
    }
   ],
   "source": [
    "CleanDFlimit2.groupby(\"anime_id\")[\"rating\"].size().plot.bar()"
   ]
  },
  {
   "cell_type": "markdown",
   "metadata": {},
   "source": [
    "Effettuaiamo un operazione di merging per ottenere un Dataframe dove si veda il nome dell'anime a cui è associata la votazione"
   ]
  },
  {
   "cell_type": "code",
   "execution_count": 16,
   "metadata": {},
   "outputs": [],
   "source": [
    "MergedDF = CleanDF.merge(AnimeDF, left_on = 'anime_id', right_on = 'anime_id', suffixes= ['_user', ''])\n",
    "MergedDF.rename(columns = {'rating_user':'user_rating'}, inplace = True)"
   ]
  },
  {
   "cell_type": "code",
   "execution_count": 17,
   "metadata": {},
   "outputs": [
    {
     "data": {
      "text/html": [
       "<div>\n",
       "<style scoped>\n",
       "    .dataframe tbody tr th:only-of-type {\n",
       "        vertical-align: middle;\n",
       "    }\n",
       "\n",
       "    .dataframe tbody tr th {\n",
       "        vertical-align: top;\n",
       "    }\n",
       "\n",
       "    .dataframe thead th {\n",
       "        text-align: right;\n",
       "    }\n",
       "</style>\n",
       "<table border=\"1\" class=\"dataframe\">\n",
       "  <thead>\n",
       "    <tr style=\"text-align: right;\">\n",
       "      <th></th>\n",
       "      <th>user_id</th>\n",
       "      <th>name</th>\n",
       "      <th>user_rating</th>\n",
       "    </tr>\n",
       "  </thead>\n",
       "  <tbody>\n",
       "    <tr>\n",
       "      <th>0</th>\n",
       "      <td>1</td>\n",
       "      <td>Highschool of the Dead</td>\n",
       "      <td>10</td>\n",
       "    </tr>\n",
       "    <tr>\n",
       "      <th>1</th>\n",
       "      <td>3</td>\n",
       "      <td>Highschool of the Dead</td>\n",
       "      <td>6</td>\n",
       "    </tr>\n",
       "    <tr>\n",
       "      <th>2</th>\n",
       "      <td>5</td>\n",
       "      <td>Highschool of the Dead</td>\n",
       "      <td>2</td>\n",
       "    </tr>\n",
       "    <tr>\n",
       "      <th>3</th>\n",
       "      <td>12</td>\n",
       "      <td>Highschool of the Dead</td>\n",
       "      <td>6</td>\n",
       "    </tr>\n",
       "    <tr>\n",
       "      <th>4</th>\n",
       "      <td>14</td>\n",
       "      <td>Highschool of the Dead</td>\n",
       "      <td>6</td>\n",
       "    </tr>\n",
       "  </tbody>\n",
       "</table>\n",
       "</div>"
      ],
      "text/plain": [
       "   user_id                    name  user_rating\n",
       "0        1  Highschool of the Dead           10\n",
       "1        3  Highschool of the Dead            6\n",
       "2        5  Highschool of the Dead            2\n",
       "3       12  Highschool of the Dead            6\n",
       "4       14  Highschool of the Dead            6"
      ]
     },
     "execution_count": 17,
     "metadata": {},
     "output_type": "execute_result"
    }
   ],
   "source": [
    "MergedDF = MergedDF[['user_id', 'name', 'user_rating']]\n",
    "Merged_sub= MergedDF[MergedDF.user_id <= 100]\n",
    "Merged_sub.head(5)"
   ]
  },
  {
   "cell_type": "code",
   "execution_count": 18,
   "metadata": {},
   "outputs": [],
   "source": [
    "train_set, test_set =train_test_split(Merged_sub, test_size=0.2, random_state=42)"
   ]
  },
  {
   "cell_type": "code",
   "execution_count": 19,
   "metadata": {},
   "outputs": [],
   "source": [
    "train_set.set_index([\"user_id\",\"name\"], inplace=True)"
   ]
  },
  {
   "cell_type": "code",
   "execution_count": 20,
   "metadata": {},
   "outputs": [
    {
     "data": {
      "text/html": [
       "<div>\n",
       "<style scoped>\n",
       "    .dataframe tbody tr th:only-of-type {\n",
       "        vertical-align: middle;\n",
       "    }\n",
       "\n",
       "    .dataframe tbody tr th {\n",
       "        vertical-align: top;\n",
       "    }\n",
       "\n",
       "    .dataframe thead th {\n",
       "        text-align: right;\n",
       "    }\n",
       "</style>\n",
       "<table border=\"1\" class=\"dataframe\">\n",
       "  <thead>\n",
       "    <tr style=\"text-align: right;\">\n",
       "      <th></th>\n",
       "      <th></th>\n",
       "      <th>user_rating</th>\n",
       "    </tr>\n",
       "    <tr>\n",
       "      <th>user_id</th>\n",
       "      <th>name</th>\n",
       "      <th></th>\n",
       "    </tr>\n",
       "  </thead>\n",
       "  <tbody>\n",
       "    <tr>\n",
       "      <th>46</th>\n",
       "      <th>Junjou Romantica 3</th>\n",
       "      <td>4</td>\n",
       "    </tr>\n",
       "    <tr>\n",
       "      <th>44</th>\n",
       "      <th>Aquarion Evol</th>\n",
       "      <td>9</td>\n",
       "    </tr>\n",
       "    <tr>\n",
       "      <th>73</th>\n",
       "      <th>Break Blade 5: Shisen no Hate</th>\n",
       "      <td>8</td>\n",
       "    </tr>\n",
       "    <tr>\n",
       "      <th>95</th>\n",
       "      <th>Tonari no Totoro</th>\n",
       "      <td>10</td>\n",
       "    </tr>\n",
       "    <tr>\n",
       "      <th>11</th>\n",
       "      <th>Pokemon: The Origin</th>\n",
       "      <td>8</td>\n",
       "    </tr>\n",
       "  </tbody>\n",
       "</table>\n",
       "</div>"
      ],
      "text/plain": [
       "                                       user_rating\n",
       "user_id name                                      \n",
       "46      Junjou Romantica 3                       4\n",
       "44      Aquarion Evol                            9\n",
       "73      Break Blade 5: Shisen no Hate            8\n",
       "95      Tonari no Totoro                        10\n",
       "11      Pokemon: The Origin                      8"
      ]
     },
     "execution_count": 20,
     "metadata": {},
     "output_type": "execute_result"
    }
   ],
   "source": [
    "train_set.head(5)"
   ]
  },
  {
   "cell_type": "code",
   "execution_count": 21,
   "metadata": {},
   "outputs": [],
   "source": [
    "Train_Ratings = train_set[\"user_rating\"].unstack(\"name\") "
   ]
  },
  {
   "cell_type": "markdown",
   "metadata": {},
   "source": [
    "In questo modo possiamo visualizzare per ogni utente tutte le sue votazioni con NaN se la votazione non c'è mai stata."
   ]
  },
  {
   "cell_type": "code",
   "execution_count": 22,
   "metadata": {},
   "outputs": [
    {
     "data": {
      "text/html": [
       "<div>\n",
       "<style scoped>\n",
       "    .dataframe tbody tr th:only-of-type {\n",
       "        vertical-align: middle;\n",
       "    }\n",
       "\n",
       "    .dataframe tbody tr th {\n",
       "        vertical-align: top;\n",
       "    }\n",
       "\n",
       "    .dataframe thead th {\n",
       "        text-align: right;\n",
       "    }\n",
       "</style>\n",
       "<table border=\"1\" class=\"dataframe\">\n",
       "  <thead>\n",
       "    <tr style=\"text-align: right;\">\n",
       "      <th>name</th>\n",
       "      <th>&amp;quot;Bungaku Shoujo&amp;quot; Movie</th>\n",
       "      <th>.hack//Sign</th>\n",
       "      <th>.hack//The Movie: Sekai no Mukou ni</th>\n",
       "      <th>07-Ghost</th>\n",
       "      <th>11eyes</th>\n",
       "      <th>11eyes: Momoiro Genmutan</th>\n",
       "      <th>91 Days</th>\n",
       "      <th>Absolute Duo</th>\n",
       "      <th>Accel World</th>\n",
       "      <th>Accel World EX</th>\n",
       "      <th>...</th>\n",
       "      <th>Zombie-Loan</th>\n",
       "      <th>ef: A Tale of Melodies.</th>\n",
       "      <th>ef: A Tale of Melodies. - Prologue</th>\n",
       "      <th>ef: A Tale of Memories.</th>\n",
       "      <th>ef: A Tale of Memories. - Prologue</th>\n",
       "      <th>gdgd Fairies</th>\n",
       "      <th>s.CRY.ed</th>\n",
       "      <th>xxxHOLiC</th>\n",
       "      <th>xxxHOLiC Kei</th>\n",
       "      <th>xxxHOLiC Shunmuki</th>\n",
       "    </tr>\n",
       "    <tr>\n",
       "      <th>user_id</th>\n",
       "      <th></th>\n",
       "      <th></th>\n",
       "      <th></th>\n",
       "      <th></th>\n",
       "      <th></th>\n",
       "      <th></th>\n",
       "      <th></th>\n",
       "      <th></th>\n",
       "      <th></th>\n",
       "      <th></th>\n",
       "      <th></th>\n",
       "      <th></th>\n",
       "      <th></th>\n",
       "      <th></th>\n",
       "      <th></th>\n",
       "      <th></th>\n",
       "      <th></th>\n",
       "      <th></th>\n",
       "      <th></th>\n",
       "      <th></th>\n",
       "      <th></th>\n",
       "    </tr>\n",
       "  </thead>\n",
       "  <tbody>\n",
       "    <tr>\n",
       "      <th>1</th>\n",
       "      <td>NaN</td>\n",
       "      <td>NaN</td>\n",
       "      <td>NaN</td>\n",
       "      <td>NaN</td>\n",
       "      <td>NaN</td>\n",
       "      <td>NaN</td>\n",
       "      <td>NaN</td>\n",
       "      <td>NaN</td>\n",
       "      <td>NaN</td>\n",
       "      <td>NaN</td>\n",
       "      <td>...</td>\n",
       "      <td>NaN</td>\n",
       "      <td>NaN</td>\n",
       "      <td>NaN</td>\n",
       "      <td>NaN</td>\n",
       "      <td>NaN</td>\n",
       "      <td>NaN</td>\n",
       "      <td>NaN</td>\n",
       "      <td>NaN</td>\n",
       "      <td>NaN</td>\n",
       "      <td>NaN</td>\n",
       "    </tr>\n",
       "    <tr>\n",
       "      <th>2</th>\n",
       "      <td>NaN</td>\n",
       "      <td>NaN</td>\n",
       "      <td>NaN</td>\n",
       "      <td>NaN</td>\n",
       "      <td>NaN</td>\n",
       "      <td>NaN</td>\n",
       "      <td>NaN</td>\n",
       "      <td>NaN</td>\n",
       "      <td>NaN</td>\n",
       "      <td>NaN</td>\n",
       "      <td>...</td>\n",
       "      <td>NaN</td>\n",
       "      <td>NaN</td>\n",
       "      <td>NaN</td>\n",
       "      <td>NaN</td>\n",
       "      <td>NaN</td>\n",
       "      <td>NaN</td>\n",
       "      <td>NaN</td>\n",
       "      <td>NaN</td>\n",
       "      <td>NaN</td>\n",
       "      <td>NaN</td>\n",
       "    </tr>\n",
       "    <tr>\n",
       "      <th>3</th>\n",
       "      <td>NaN</td>\n",
       "      <td>NaN</td>\n",
       "      <td>NaN</td>\n",
       "      <td>NaN</td>\n",
       "      <td>NaN</td>\n",
       "      <td>NaN</td>\n",
       "      <td>NaN</td>\n",
       "      <td>NaN</td>\n",
       "      <td>7.0</td>\n",
       "      <td>NaN</td>\n",
       "      <td>...</td>\n",
       "      <td>7.0</td>\n",
       "      <td>NaN</td>\n",
       "      <td>NaN</td>\n",
       "      <td>NaN</td>\n",
       "      <td>NaN</td>\n",
       "      <td>NaN</td>\n",
       "      <td>NaN</td>\n",
       "      <td>NaN</td>\n",
       "      <td>NaN</td>\n",
       "      <td>NaN</td>\n",
       "    </tr>\n",
       "    <tr>\n",
       "      <th>5</th>\n",
       "      <td>NaN</td>\n",
       "      <td>NaN</td>\n",
       "      <td>NaN</td>\n",
       "      <td>NaN</td>\n",
       "      <td>NaN</td>\n",
       "      <td>NaN</td>\n",
       "      <td>NaN</td>\n",
       "      <td>2.0</td>\n",
       "      <td>3.0</td>\n",
       "      <td>NaN</td>\n",
       "      <td>...</td>\n",
       "      <td>NaN</td>\n",
       "      <td>NaN</td>\n",
       "      <td>NaN</td>\n",
       "      <td>NaN</td>\n",
       "      <td>NaN</td>\n",
       "      <td>NaN</td>\n",
       "      <td>NaN</td>\n",
       "      <td>NaN</td>\n",
       "      <td>NaN</td>\n",
       "      <td>NaN</td>\n",
       "    </tr>\n",
       "    <tr>\n",
       "      <th>7</th>\n",
       "      <td>NaN</td>\n",
       "      <td>NaN</td>\n",
       "      <td>NaN</td>\n",
       "      <td>NaN</td>\n",
       "      <td>NaN</td>\n",
       "      <td>NaN</td>\n",
       "      <td>NaN</td>\n",
       "      <td>8.0</td>\n",
       "      <td>NaN</td>\n",
       "      <td>NaN</td>\n",
       "      <td>...</td>\n",
       "      <td>NaN</td>\n",
       "      <td>NaN</td>\n",
       "      <td>NaN</td>\n",
       "      <td>NaN</td>\n",
       "      <td>NaN</td>\n",
       "      <td>NaN</td>\n",
       "      <td>NaN</td>\n",
       "      <td>NaN</td>\n",
       "      <td>NaN</td>\n",
       "      <td>NaN</td>\n",
       "    </tr>\n",
       "  </tbody>\n",
       "</table>\n",
       "<p>5 rows × 1563 columns</p>\n",
       "</div>"
      ],
      "text/plain": [
       "name     &quot;Bungaku Shoujo&quot; Movie  .hack//Sign  \\\n",
       "user_id                                                  \n",
       "1                                     NaN          NaN   \n",
       "2                                     NaN          NaN   \n",
       "3                                     NaN          NaN   \n",
       "5                                     NaN          NaN   \n",
       "7                                     NaN          NaN   \n",
       "\n",
       "name     .hack//The Movie: Sekai no Mukou ni  07-Ghost  11eyes  \\\n",
       "user_id                                                          \n",
       "1                                        NaN       NaN     NaN   \n",
       "2                                        NaN       NaN     NaN   \n",
       "3                                        NaN       NaN     NaN   \n",
       "5                                        NaN       NaN     NaN   \n",
       "7                                        NaN       NaN     NaN   \n",
       "\n",
       "name     11eyes: Momoiro Genmutan  91 Days  Absolute Duo  Accel World  \\\n",
       "user_id                                                                 \n",
       "1                             NaN      NaN           NaN          NaN   \n",
       "2                             NaN      NaN           NaN          NaN   \n",
       "3                             NaN      NaN           NaN          7.0   \n",
       "5                             NaN      NaN           2.0          3.0   \n",
       "7                             NaN      NaN           8.0          NaN   \n",
       "\n",
       "name     Accel World EX  ...  Zombie-Loan  ef: A Tale of Melodies.  \\\n",
       "user_id                  ...                                         \n",
       "1                   NaN  ...          NaN                      NaN   \n",
       "2                   NaN  ...          NaN                      NaN   \n",
       "3                   NaN  ...          7.0                      NaN   \n",
       "5                   NaN  ...          NaN                      NaN   \n",
       "7                   NaN  ...          NaN                      NaN   \n",
       "\n",
       "name     ef: A Tale of Melodies. - Prologue  ef: A Tale of Memories.  \\\n",
       "user_id                                                                \n",
       "1                                       NaN                      NaN   \n",
       "2                                       NaN                      NaN   \n",
       "3                                       NaN                      NaN   \n",
       "5                                       NaN                      NaN   \n",
       "7                                       NaN                      NaN   \n",
       "\n",
       "name     ef: A Tale of Memories. - Prologue  gdgd Fairies  s.CRY.ed  xxxHOLiC  \\\n",
       "user_id                                                                         \n",
       "1                                       NaN           NaN       NaN       NaN   \n",
       "2                                       NaN           NaN       NaN       NaN   \n",
       "3                                       NaN           NaN       NaN       NaN   \n",
       "5                                       NaN           NaN       NaN       NaN   \n",
       "7                                       NaN           NaN       NaN       NaN   \n",
       "\n",
       "name     xxxHOLiC Kei  xxxHOLiC Shunmuki  \n",
       "user_id                                   \n",
       "1                 NaN                NaN  \n",
       "2                 NaN                NaN  \n",
       "3                 NaN                NaN  \n",
       "5                 NaN                NaN  \n",
       "7                 NaN                NaN  \n",
       "\n",
       "[5 rows x 1563 columns]"
      ]
     },
     "execution_count": 22,
     "metadata": {},
     "output_type": "execute_result"
    }
   ],
   "source": [
    "Train_Ratings.head()"
   ]
  },
  {
   "cell_type": "markdown",
   "metadata": {},
   "source": [
    "<h1>4) Raccomendation User-based Collaborative filtering con similarità coseno</h1>"
   ]
  },
  {
   "cell_type": "markdown",
   "metadata": {},
   "source": [
    "<li>Utilizzando la reccomendation user-based un voto predetto r^u,i previsto per un anime i da un utente u è determinato sulla base di voti dati da altri utenti al anime i opportunamente \"pesati\" in base alla similiratà che hanno con l'utente u.</li>\n",
    "<li>La similarità tra utenti è calcolata a partire dai voti che entrambi hanno dato ad anime</li>\n"
   ]
  },
  {
   "cell_type": "markdown",
   "metadata": {},
   "source": [
    "Abbiamo scelto di utilizzare la similarità coseno poichè ci era più familiare avendola affronta in aula.\n",
    "La similarità coseno rappresenta la similarità tra due vettori tenendo conto dell'angolo formato tra essi.\n",
    "Utilizzermo le formule viste in aula."
   ]
  },
  {
   "cell_type": "code",
   "execution_count": 23,
   "metadata": {},
   "outputs": [],
   "source": [
    "UM = Train_Ratings.fillna(0).values"
   ]
  },
  {
   "cell_type": "code",
   "execution_count": 24,
   "metadata": {
    "scrolled": true
   },
   "outputs": [
    {
     "data": {
      "text/plain": [
       "array([[0., 0., 0., 0., 0.],\n",
       "       [0., 0., 0., 0., 0.],\n",
       "       [0., 0., 0., 0., 0.],\n",
       "       [0., 0., 0., 0., 0.],\n",
       "       [0., 0., 0., 0., 0.]])"
      ]
     },
     "execution_count": 24,
     "metadata": {},
     "output_type": "execute_result"
    }
   ],
   "source": [
    "UM[:5,:5]"
   ]
  },
  {
   "cell_type": "code",
   "execution_count": 25,
   "metadata": {},
   "outputs": [],
   "source": [
    "UM_bool = Train_Ratings.notna().values"
   ]
  },
  {
   "cell_type": "code",
   "execution_count": 26,
   "metadata": {
    "scrolled": true
   },
   "outputs": [
    {
     "data": {
      "text/plain": [
       "array([[False, False, False, False, False],\n",
       "       [False, False, False, False, False],\n",
       "       [False, False, False, False, False],\n",
       "       [False, False, False, False, False],\n",
       "       [False, False, False, False, False]])"
      ]
     },
     "execution_count": 26,
     "metadata": {},
     "output_type": "execute_result"
    }
   ],
   "source": [
    "UM_bool[:5,:5]"
   ]
  },
  {
   "cell_type": "markdown",
   "metadata": {},
   "source": [
    "Eseguendo questo prodotto scalare, otteniamo il numeratore della nostra similarità coseno poichè è una somma di prodotti di anime che hanno visto entrambi gli utenti, dove è presente uno 0 (non visto/votato) il prodotto si annulla \n"
   ]
  },
  {
   "cell_type": "code",
   "execution_count": 27,
   "metadata": {},
   "outputs": [],
   "source": [
    "cos_num = UM @ UM.T"
   ]
  },
  {
   "cell_type": "markdown",
   "metadata": {},
   "source": [
    "La matrice UM_bool_and è un'array tridimensionale che indica se u = user1 e v = user2 hanno visto un anime x \n",
    "UM_bool_and[u, v, i] == UM_bool[u, x] & UM_bool[v, x]\n"
   ]
  },
  {
   "cell_type": "code",
   "execution_count": 28,
   "metadata": {},
   "outputs": [
    {
     "name": "stderr",
     "output_type": "stream",
     "text": [
      "D:\\anaconda3\\lib\\site-packages\\ipykernel_launcher.py:5: RuntimeWarning: invalid value encountered in true_divide\n",
      "  \"\"\"\n"
     ]
    }
   ],
   "source": [
    "UM_bool_and = UM_bool[:, None, :] & UM_bool[None, :, :]\n",
    "UM_com = UM_bool_and * UM[:, None, :]\n",
    "UM_com_rss = np.sqrt(np.sum(np.square(UM_com), 2))\n",
    "cos_denum = UM_com_rss * UM_com_rss.T\n",
    "cos = cos_num / cos_denum"
   ]
  },
  {
   "cell_type": "code",
   "execution_count": 29,
   "metadata": {},
   "outputs": [
    {
     "data": {
      "text/plain": [
       "array([[1.        ,        nan, 1.        , 0.96225045, 1.        ],\n",
       "       [       nan, 1.        , 1.        ,        nan,        nan],\n",
       "       [1.        , 1.        , 1.        , 0.90846625, 0.98632794],\n",
       "       [0.96225045,        nan, 0.90846625, 1.        , 0.8476102 ],\n",
       "       [1.        ,        nan, 0.98632794, 0.8476102 , 1.        ]])"
      ]
     },
     "execution_count": 29,
     "metadata": {},
     "output_type": "execute_result"
    }
   ],
   "source": [
    "cos[:5, :5]"
   ]
  },
  {
   "cell_type": "code",
   "execution_count": 30,
   "metadata": {},
   "outputs": [],
   "source": [
    "cos[np.isnan(cos)] = 0"
   ]
  },
  {
   "cell_type": "markdown",
   "metadata": {},
   "source": [
    "Definiamo ora una funzione che dato un indice utente e un indice anime ritorna il voto predetto"
   ]
  },
  {
   "cell_type": "code",
   "execution_count": 31,
   "metadata": {},
   "outputs": [],
   "source": [
    "def predict_from_all(u, a):\n",
    "    other_users = list(np.where(UM_bool[:, a])[0])\n",
    "    predicted_vote = (cos[u, other_users] @ UM[other_users, a]) / cos[u, other_users].sum()\n",
    "    return predicted_vote if not np.isnan(predicted_vote) else UM[UM_bool].mean()"
   ]
  },
  {
   "cell_type": "code",
   "execution_count": 32,
   "metadata": {},
   "outputs": [
    {
     "data": {
      "text/plain": [
       "8.42362994362252"
      ]
     },
     "execution_count": 32,
     "metadata": {},
     "output_type": "execute_result"
    }
   ],
   "source": [
    "predict_from_all(3, 20)"
   ]
  },
  {
   "cell_type": "markdown",
   "metadata": {},
   "source": [
    "Effettuiamo le operazioni di indicizzazzione precedemente fatte sul training set anche sul validation set."
   ]
  },
  {
   "cell_type": "code",
   "execution_count": 33,
   "metadata": {},
   "outputs": [],
   "source": [
    "test_set.set_index([\"user_id\",\"name\"], inplace=True)"
   ]
  },
  {
   "cell_type": "code",
   "execution_count": 34,
   "metadata": {},
   "outputs": [],
   "source": [
    "val_ratings = test_set[\"user_rating\"].unstack(\"name\") "
   ]
  },
  {
   "cell_type": "code",
   "execution_count": 35,
   "metadata": {},
   "outputs": [],
   "source": [
    "val_ratings = val_ratings.reindex_like(Train_Ratings)"
   ]
  },
  {
   "cell_type": "markdown",
   "metadata": {},
   "source": [
    "Creiamo ora due matrici R e P in R sono presenti i voti dati dagli utenti agli anime, P invece è una matrice booleana dove è presente 0 se un'utente non ha votato per un anime 1 altrimenti."
   ]
  },
  {
   "cell_type": "code",
   "execution_count": 36,
   "metadata": {},
   "outputs": [],
   "source": [
    "R_val = val_ratings.fillna(0).values\n",
    "P_val = val_ratings.notna().values"
   ]
  },
  {
   "cell_type": "markdown",
   "metadata": {},
   "source": [
    "Creo un vettore con tutti i voti effettivamente dati nel validation set"
   ]
  },
  {
   "cell_type": "code",
   "execution_count": 37,
   "metadata": {},
   "outputs": [],
   "source": [
    "actual = R_val[P_val]"
   ]
  },
  {
   "cell_type": "markdown",
   "metadata": {},
   "source": [
    "Creiamo ora una funzione get_val_prediction che vuole in input una funzione predittiva pred_func che applica a tutte le coppie utente - anime dove P_val è true quindi il voto è stato assegnato.\n",
    "Questa funziona ritorna una lista di valutazioni predette sugl' anime che effettivamente hanno già ricevuto una valutazione."
   ]
  },
  {
   "cell_type": "code",
   "execution_count": 38,
   "metadata": {},
   "outputs": [],
   "source": [
    "def get_val_predictions(pred_func):\n",
    "    return np.array([pred_func(u, a)\n",
    "                     for u, a in zip(*np.where(P_val))])"
   ]
  },
  {
   "cell_type": "code",
   "execution_count": 39,
   "metadata": {},
   "outputs": [
    {
     "name": "stderr",
     "output_type": "stream",
     "text": [
      "D:\\anaconda3\\lib\\site-packages\\ipykernel_launcher.py:3: RuntimeWarning: invalid value encountered in double_scalars\n",
      "  This is separate from the ipykernel package so we can avoid doing imports until\n"
     ]
    }
   ],
   "source": [
    "val_predictions = get_val_predictions(predict_from_all)"
   ]
  },
  {
   "cell_type": "markdown",
   "metadata": {},
   "source": [
    "Questo ci permette di poter calcolare l'RMSE e il MAE definiamo quindi due funzioni una per il calcolo del RMSE e una per il calcolo del MAE."
   ]
  },
  {
   "cell_type": "code",
   "execution_count": 40,
   "metadata": {},
   "outputs": [],
   "source": [
    "def RMSE (actual,predicted):\n",
    "    return np.sqrt(np.mean(np.square(predicted - actual)))"
   ]
  },
  {
   "cell_type": "code",
   "execution_count": 41,
   "metadata": {},
   "outputs": [],
   "source": [
    "manualRMSE = RMSE(actual, val_predictions)"
   ]
  },
  {
   "cell_type": "code",
   "execution_count": 42,
   "metadata": {},
   "outputs": [],
   "source": [
    "def MAE (actual,predicted):\n",
    "    return np.mean(abs(predicted-actual))"
   ]
  },
  {
   "cell_type": "code",
   "execution_count": 43,
   "metadata": {},
   "outputs": [],
   "source": [
    "manualMAE = MAE(actual,val_predictions)"
   ]
  },
  {
   "cell_type": "code",
   "execution_count": 44,
   "metadata": {},
   "outputs": [
    {
     "data": {
      "text/plain": [
       "(1.4508386031975113, 2.0018702031745104)"
      ]
     },
     "execution_count": 44,
     "metadata": {},
     "output_type": "execute_result"
    }
   ],
   "source": [
    "manualMAE,manualRMSE"
   ]
  },
  {
   "cell_type": "code",
   "execution_count": 45,
   "metadata": {},
   "outputs": [],
   "source": [
    "rmse_mae_results = []\n",
    "rmse_mae_results.append((\"manual\",manualRMSE,manualMAE))"
   ]
  },
  {
   "cell_type": "markdown",
   "metadata": {},
   "source": [
    "Da quest'analisi possiamo notare che sia il MAE che l'RMSE sono molto alti utilizzando questo tipo di approccio quindi come fare per ottenere metodi predittivi più accurati?\n",
    "Possiamo utilizzare Surpirse che mette a disposizione vari tools tra i quali funzioni per fare crossfold validation e quindi ricercare un algoritmo più performante."
   ]
  },
  {
   "cell_type": "markdown",
   "metadata": {},
   "source": [
    "<h1>5) Analisi con Surprise <h1>"
   ]
  },
  {
   "cell_type": "markdown",
   "metadata": {},
   "source": [
    "Utilizziamo adesso surprise per fare una serie di studi e predizioni con gran parte degli algoritmi di predizione visti a lezione"
   ]
  },
  {
   "cell_type": "code",
   "execution_count": 46,
   "metadata": {},
   "outputs": [],
   "source": [
    "from surprise import Reader\n",
    "reader = Reader(sep=\",\",rating_scale=(0, 10))\n",
    "from surprise import Dataset"
   ]
  },
  {
   "cell_type": "markdown",
   "metadata": {},
   "source": [
    "Selezioniamo solo i primi mille utenti e non consideriamo le righe che indicano che non è stato assegnato nessuna valutazione all anime poichè quelle informazioni non sono utili ."
   ]
  },
  {
   "cell_type": "code",
   "execution_count": 47,
   "metadata": {},
   "outputs": [
    {
     "data": {
      "text/html": [
       "<div>\n",
       "<style scoped>\n",
       "    .dataframe tbody tr th:only-of-type {\n",
       "        vertical-align: middle;\n",
       "    }\n",
       "\n",
       "    .dataframe tbody tr th {\n",
       "        vertical-align: top;\n",
       "    }\n",
       "\n",
       "    .dataframe thead th {\n",
       "        text-align: right;\n",
       "    }\n",
       "</style>\n",
       "<table border=\"1\" class=\"dataframe\">\n",
       "  <thead>\n",
       "    <tr style=\"text-align: right;\">\n",
       "      <th></th>\n",
       "      <th>user_id</th>\n",
       "      <th>anime_id</th>\n",
       "      <th>rating</th>\n",
       "    </tr>\n",
       "  </thead>\n",
       "  <tbody>\n",
       "    <tr>\n",
       "      <th>47</th>\n",
       "      <td>1</td>\n",
       "      <td>8074</td>\n",
       "      <td>10</td>\n",
       "    </tr>\n",
       "    <tr>\n",
       "      <th>81</th>\n",
       "      <td>1</td>\n",
       "      <td>11617</td>\n",
       "      <td>10</td>\n",
       "    </tr>\n",
       "    <tr>\n",
       "      <th>83</th>\n",
       "      <td>1</td>\n",
       "      <td>11757</td>\n",
       "      <td>10</td>\n",
       "    </tr>\n",
       "    <tr>\n",
       "      <th>101</th>\n",
       "      <td>1</td>\n",
       "      <td>15451</td>\n",
       "      <td>10</td>\n",
       "    </tr>\n",
       "    <tr>\n",
       "      <th>153</th>\n",
       "      <td>2</td>\n",
       "      <td>11771</td>\n",
       "      <td>10</td>\n",
       "    </tr>\n",
       "    <tr>\n",
       "      <th>156</th>\n",
       "      <td>3</td>\n",
       "      <td>20</td>\n",
       "      <td>8</td>\n",
       "    </tr>\n",
       "    <tr>\n",
       "      <th>157</th>\n",
       "      <td>3</td>\n",
       "      <td>154</td>\n",
       "      <td>6</td>\n",
       "    </tr>\n",
       "    <tr>\n",
       "      <th>158</th>\n",
       "      <td>3</td>\n",
       "      <td>170</td>\n",
       "      <td>9</td>\n",
       "    </tr>\n",
       "    <tr>\n",
       "      <th>159</th>\n",
       "      <td>3</td>\n",
       "      <td>199</td>\n",
       "      <td>10</td>\n",
       "    </tr>\n",
       "    <tr>\n",
       "      <th>160</th>\n",
       "      <td>3</td>\n",
       "      <td>225</td>\n",
       "      <td>9</td>\n",
       "    </tr>\n",
       "  </tbody>\n",
       "</table>\n",
       "</div>"
      ],
      "text/plain": [
       "     user_id  anime_id  rating\n",
       "47         1      8074      10\n",
       "81         1     11617      10\n",
       "83         1     11757      10\n",
       "101        1     15451      10\n",
       "153        2     11771      10\n",
       "156        3        20       8\n",
       "157        3       154       6\n",
       "158        3       170       9\n",
       "159        3       199      10\n",
       "160        3       225       9"
      ]
     },
     "execution_count": 47,
     "metadata": {},
     "output_type": "execute_result"
    }
   ],
   "source": [
    "CleanDF = CleanDF[CleanDF.user_id <= 100]\n",
    "data = Dataset.load_from_df(CleanDF,reader)\n",
    "CleanDF.iloc[:10]"
   ]
  },
  {
   "cell_type": "markdown",
   "metadata": {},
   "source": [
    "Dividiamo i dati in Train e Validation Set utilizzando surprise e train_test_split"
   ]
  },
  {
   "cell_type": "code",
   "execution_count": 48,
   "metadata": {},
   "outputs": [],
   "source": [
    "from surprise.model_selection import train_test_split\n",
    "trainset, testset = train_test_split(data, test_size=0.20)"
   ]
  },
  {
   "cell_type": "markdown",
   "metadata": {},
   "source": [
    "<p> Creiamo ora  delle funzioni che ci permetteranno di identificare id/nome anime </p>"
   ]
  },
  {
   "cell_type": "code",
   "execution_count": 49,
   "metadata": {},
   "outputs": [],
   "source": [
    "def AnimeId(id):  \n",
    "    a = 0\n",
    "    b = a\n",
    "    for n in (AnimeDF[\"anime_id\"] == id):\n",
    "        if n == True:\n",
    "            b = a\n",
    "        a = a + 1\n",
    "    return b   "
   ]
  },
  {
   "cell_type": "code",
   "execution_count": 50,
   "metadata": {},
   "outputs": [],
   "source": [
    "anime = []\n",
    "def myFunc(a):\n",
    "    return a[1]\n",
    "for n in np.unique(CleanDF[\"anime_id\"]):\n",
    "    idx = AnimeId(n)\n",
    "    name = AnimeDF.iloc[idx][\"name\"]\n",
    "    anime.append((n,name))\n",
    "anime.sort(key=myFunc)"
   ]
  },
  {
   "cell_type": "code",
   "execution_count": 51,
   "metadata": {},
   "outputs": [
    {
     "data": {
      "text/plain": [
       "[(6408, '&quot;Bungaku Shoujo&quot; Movie'),\n",
       " (48, '.hack//Sign'),\n",
       " (298, '.hack//Tasogare no Udewa Densetsu'),\n",
       " (11375, '.hack//The Movie: Sekai no Mukou ni'),\n",
       " (5525, '07-Ghost'),\n",
       " (6682, '11eyes'),\n",
       " (7739, '11eyes: Momoiro Genmutan'),\n",
       " (32998, '91 Days'),\n",
       " (25397, 'Absolute Duo'),\n",
       " (11759, 'Accel World')]"
      ]
     },
     "execution_count": 51,
     "metadata": {},
     "output_type": "execute_result"
    }
   ],
   "source": [
    "anime[:10]"
   ]
  },
  {
   "cell_type": "markdown",
   "metadata": {},
   "source": [
    "Possiamo vedere la media globale di tutti i voti dati e altri infomazioni utili del trainset quali numero utenti,anime e voti."
   ]
  },
  {
   "cell_type": "code",
   "execution_count": 52,
   "metadata": {},
   "outputs": [
    {
     "data": {
      "text/plain": [
       "(7.710047063638224, 92, 1570, 4887)"
      ]
     },
     "execution_count": 52,
     "metadata": {},
     "output_type": "execute_result"
    }
   ],
   "source": [
    "trainset.global_mean,trainset.n_users,trainset.n_items,trainset.n_ratings"
   ]
  },
  {
   "cell_type": "code",
   "execution_count": 53,
   "metadata": {},
   "outputs": [],
   "source": [
    "from surprise.accuracy import rmse\n",
    "from surprise import KNNBasic\n",
    "from surprise.accuracy import mae"
   ]
  },
  {
   "cell_type": "markdown",
   "metadata": {},
   "source": [
    "Iniziamo ora uno studio che attraverso l'utilizzo di cross validation che ci permette di valutare i vari algoritmi di predizione conosciuti nel corso per poi sceglierne il migliore."
   ]
  },
  {
   "cell_type": "code",
   "execution_count": 54,
   "metadata": {},
   "outputs": [],
   "source": [
    "from surprise.model_selection import KFold\n",
    "kf = KFold(n_splits=5, shuffle=True, random_state=42)"
   ]
  },
  {
   "cell_type": "markdown",
   "metadata": {},
   "source": [
    "Attraverso la funzione cross_validate effettuiamo la cross validation in questo primo caso valutiamo l'utilizzo del metodo user-based con similarità coseno "
   ]
  },
  {
   "cell_type": "code",
   "execution_count": 55,
   "metadata": {},
   "outputs": [
    {
     "name": "stdout",
     "output_type": "stream",
     "text": [
      "Computing the cosine similarity matrix...\n",
      "Done computing similarity matrix.\n",
      "Computing the cosine similarity matrix...\n",
      "Done computing similarity matrix.\n",
      "Computing the cosine similarity matrix...\n",
      "Done computing similarity matrix.\n",
      "Computing the cosine similarity matrix...\n",
      "Done computing similarity matrix.\n",
      "Computing the cosine similarity matrix...\n",
      "Done computing similarity matrix.\n"
     ]
    }
   ],
   "source": [
    "from surprise.model_selection import cross_validate\n",
    "model = KNNBasic(k=10, sim_options={\"name\": \"cosine\"})\n",
    "cv_results = cross_validate(model, data, cv=kf)"
   ]
  },
  {
   "cell_type": "markdown",
   "metadata": {},
   "source": [
    "Utilizziamo il validation set per ottenere informazioni quali RMSE e MAE"
   ]
  },
  {
   "cell_type": "code",
   "execution_count": 56,
   "metadata": {},
   "outputs": [
    {
     "data": {
      "text/html": [
       "<div>\n",
       "<style scoped>\n",
       "    .dataframe tbody tr th:only-of-type {\n",
       "        vertical-align: middle;\n",
       "    }\n",
       "\n",
       "    .dataframe tbody tr th {\n",
       "        vertical-align: top;\n",
       "    }\n",
       "\n",
       "    .dataframe thead th {\n",
       "        text-align: right;\n",
       "    }\n",
       "</style>\n",
       "<table border=\"1\" class=\"dataframe\">\n",
       "  <thead>\n",
       "    <tr style=\"text-align: right;\">\n",
       "      <th></th>\n",
       "      <th>test_rmse</th>\n",
       "      <th>test_mae</th>\n",
       "      <th>fit_time</th>\n",
       "      <th>test_time</th>\n",
       "    </tr>\n",
       "  </thead>\n",
       "  <tbody>\n",
       "    <tr>\n",
       "      <th>0</th>\n",
       "      <td>2.056249</td>\n",
       "      <td>1.491123</td>\n",
       "      <td>0.006006</td>\n",
       "      <td>0.017015</td>\n",
       "    </tr>\n",
       "    <tr>\n",
       "      <th>1</th>\n",
       "      <td>2.150462</td>\n",
       "      <td>1.577015</td>\n",
       "      <td>0.007006</td>\n",
       "      <td>0.015014</td>\n",
       "    </tr>\n",
       "    <tr>\n",
       "      <th>2</th>\n",
       "      <td>1.866606</td>\n",
       "      <td>1.404650</td>\n",
       "      <td>0.005005</td>\n",
       "      <td>0.016014</td>\n",
       "    </tr>\n",
       "    <tr>\n",
       "      <th>3</th>\n",
       "      <td>1.893798</td>\n",
       "      <td>1.404921</td>\n",
       "      <td>0.007006</td>\n",
       "      <td>0.016015</td>\n",
       "    </tr>\n",
       "    <tr>\n",
       "      <th>4</th>\n",
       "      <td>1.991314</td>\n",
       "      <td>1.460540</td>\n",
       "      <td>0.006006</td>\n",
       "      <td>0.015014</td>\n",
       "    </tr>\n",
       "  </tbody>\n",
       "</table>\n",
       "</div>"
      ],
      "text/plain": [
       "   test_rmse  test_mae  fit_time  test_time\n",
       "0   2.056249  1.491123  0.006006   0.017015\n",
       "1   2.150462  1.577015  0.007006   0.015014\n",
       "2   1.866606  1.404650  0.005005   0.016014\n",
       "3   1.893798  1.404921  0.007006   0.016015\n",
       "4   1.991314  1.460540  0.006006   0.015014"
      ]
     },
     "execution_count": 56,
     "metadata": {},
     "output_type": "execute_result"
    }
   ],
   "source": [
    "results = pd.DataFrame(cv_results)\n",
    "results"
   ]
  },
  {
   "cell_type": "markdown",
   "metadata": {},
   "source": [
    "Esempio di predizione"
   ]
  },
  {
   "cell_type": "code",
   "execution_count": 57,
   "metadata": {},
   "outputs": [
    {
     "data": {
      "text/plain": [
       "Prediction(uid=3, iid=20, r_ui=None, est=7.900570612624608, details={'actual_k': 10, 'was_impossible': False})"
      ]
     },
     "execution_count": 57,
     "metadata": {},
     "output_type": "execute_result"
    }
   ],
   "source": [
    "model.predict(3,20)"
   ]
  },
  {
   "cell_type": "markdown",
   "metadata": {},
   "source": [
    "Utilizziamo il training set per ottenere informazioni quali RMSE e MAE"
   ]
  },
  {
   "cell_type": "code",
   "execution_count": 58,
   "metadata": {},
   "outputs": [
    {
     "name": "stdout",
     "output_type": "stream",
     "text": [
      "Computing the cosine similarity matrix...\n",
      "Done computing similarity matrix.\n",
      "RMSE: 2.0091\n",
      "MAE:  1.4757\n"
     ]
    },
    {
     "data": {
      "text/plain": [
       "(2.0090680276955197, 1.475669656082512)"
      ]
     },
     "execution_count": 58,
     "metadata": {},
     "output_type": "execute_result"
    }
   ],
   "source": [
    "model.fit(trainset)\n",
    "pred = model.test(testset)\n",
    "rmse(pred),mae(pred)"
   ]
  },
  {
   "cell_type": "markdown",
   "metadata": {},
   "source": [
    "Salviamo man mano la media degli RMSE e MAE dei vari algoritmi in questo array per poi alla fine fare un confronto e scoprire qual è il più accurato."
   ]
  },
  {
   "cell_type": "code",
   "execution_count": 59,
   "metadata": {},
   "outputs": [],
   "source": [
    "rmse_mae_results.append(((\"cosine\",cv_results[\"test_rmse\"].mean(),cv_results[\"test_mae\"].mean())))"
   ]
  },
  {
   "cell_type": "markdown",
   "metadata": {},
   "source": [
    "Effettuiamo l'analisi proposta precedentemente utilizzando pearson invece che la similarità coseno"
   ]
  },
  {
   "cell_type": "code",
   "execution_count": 60,
   "metadata": {},
   "outputs": [
    {
     "name": "stdout",
     "output_type": "stream",
     "text": [
      "Computing the pearson similarity matrix...\n",
      "Done computing similarity matrix.\n",
      "Computing the pearson similarity matrix...\n",
      "Done computing similarity matrix.\n",
      "Computing the pearson similarity matrix...\n",
      "Done computing similarity matrix.\n",
      "Computing the pearson similarity matrix...\n",
      "Done computing similarity matrix.\n",
      "Computing the pearson similarity matrix...\n",
      "Done computing similarity matrix.\n"
     ]
    }
   ],
   "source": [
    "model = KNNBasic(k=10, sim_options={\"name\": \"pearson\"})\n",
    "cv_results = cross_validate(model, data, cv=kf)"
   ]
  },
  {
   "cell_type": "code",
   "execution_count": 61,
   "metadata": {},
   "outputs": [
    {
     "data": {
      "text/html": [
       "<div>\n",
       "<style scoped>\n",
       "    .dataframe tbody tr th:only-of-type {\n",
       "        vertical-align: middle;\n",
       "    }\n",
       "\n",
       "    .dataframe tbody tr th {\n",
       "        vertical-align: top;\n",
       "    }\n",
       "\n",
       "    .dataframe thead th {\n",
       "        text-align: right;\n",
       "    }\n",
       "</style>\n",
       "<table border=\"1\" class=\"dataframe\">\n",
       "  <thead>\n",
       "    <tr style=\"text-align: right;\">\n",
       "      <th></th>\n",
       "      <th>test_rmse</th>\n",
       "      <th>test_mae</th>\n",
       "      <th>fit_time</th>\n",
       "      <th>test_time</th>\n",
       "    </tr>\n",
       "  </thead>\n",
       "  <tbody>\n",
       "    <tr>\n",
       "      <th>0</th>\n",
       "      <td>2.093890</td>\n",
       "      <td>1.543486</td>\n",
       "      <td>0.007006</td>\n",
       "      <td>0.016015</td>\n",
       "    </tr>\n",
       "    <tr>\n",
       "      <th>1</th>\n",
       "      <td>2.188150</td>\n",
       "      <td>1.606571</td>\n",
       "      <td>0.008007</td>\n",
       "      <td>0.015013</td>\n",
       "    </tr>\n",
       "    <tr>\n",
       "      <th>2</th>\n",
       "      <td>1.963553</td>\n",
       "      <td>1.466548</td>\n",
       "      <td>0.008007</td>\n",
       "      <td>0.015014</td>\n",
       "    </tr>\n",
       "    <tr>\n",
       "      <th>3</th>\n",
       "      <td>1.952620</td>\n",
       "      <td>1.455088</td>\n",
       "      <td>0.007006</td>\n",
       "      <td>0.014012</td>\n",
       "    </tr>\n",
       "    <tr>\n",
       "      <th>4</th>\n",
       "      <td>1.979218</td>\n",
       "      <td>1.478768</td>\n",
       "      <td>0.007006</td>\n",
       "      <td>0.015014</td>\n",
       "    </tr>\n",
       "  </tbody>\n",
       "</table>\n",
       "</div>"
      ],
      "text/plain": [
       "   test_rmse  test_mae  fit_time  test_time\n",
       "0   2.093890  1.543486  0.007006   0.016015\n",
       "1   2.188150  1.606571  0.008007   0.015013\n",
       "2   1.963553  1.466548  0.008007   0.015014\n",
       "3   1.952620  1.455088  0.007006   0.014012\n",
       "4   1.979218  1.478768  0.007006   0.015014"
      ]
     },
     "execution_count": 61,
     "metadata": {},
     "output_type": "execute_result"
    }
   ],
   "source": [
    "pd.DataFrame(cv_results)"
   ]
  },
  {
   "cell_type": "code",
   "execution_count": 62,
   "metadata": {},
   "outputs": [
    {
     "name": "stdout",
     "output_type": "stream",
     "text": [
      "Computing the pearson similarity matrix...\n",
      "Done computing similarity matrix.\n",
      "RMSE: 2.0418\n",
      "MAE:  1.5162\n"
     ]
    },
    {
     "data": {
      "text/plain": [
       "(2.041819704030844, 1.5161528359165501)"
      ]
     },
     "execution_count": 62,
     "metadata": {},
     "output_type": "execute_result"
    }
   ],
   "source": [
    "model.fit(trainset)\n",
    "pred = model.test(testset)\n",
    "rmse(pred),mae(pred)"
   ]
  },
  {
   "cell_type": "code",
   "execution_count": 63,
   "metadata": {},
   "outputs": [],
   "source": [
    "rmse_mae_results.append((\"person\",cv_results[\"test_rmse\"].mean(),cv_results[\"test_mae\"].mean()))"
   ]
  },
  {
   "cell_type": "markdown",
   "metadata": {},
   "source": [
    "Effettuiamo l'analisi proposta precedentemente con similarità coseno con medie."
   ]
  },
  {
   "cell_type": "code",
   "execution_count": 64,
   "metadata": {},
   "outputs": [
    {
     "name": "stdout",
     "output_type": "stream",
     "text": [
      "Computing the cosine similarity matrix...\n",
      "Done computing similarity matrix.\n",
      "Computing the cosine similarity matrix...\n",
      "Done computing similarity matrix.\n",
      "Computing the cosine similarity matrix...\n",
      "Done computing similarity matrix.\n",
      "Computing the cosine similarity matrix...\n",
      "Done computing similarity matrix.\n",
      "Computing the cosine similarity matrix...\n",
      "Done computing similarity matrix.\n"
     ]
    }
   ],
   "source": [
    "from surprise import KNNWithMeans\n",
    "model = KNNWithMeans(k=10, sim_options={\"name\": \"cosine\"})\n",
    "cv_results = cross_validate(model, data, cv=kf)"
   ]
  },
  {
   "cell_type": "code",
   "execution_count": 65,
   "metadata": {},
   "outputs": [
    {
     "name": "stdout",
     "output_type": "stream",
     "text": [
      "Computing the cosine similarity matrix...\n",
      "Done computing similarity matrix.\n",
      "RMSE: 1.5721\n",
      "MAE:  1.1768\n"
     ]
    },
    {
     "data": {
      "text/plain": [
       "(1.5720546473290808, 1.176817498644512)"
      ]
     },
     "execution_count": 65,
     "metadata": {},
     "output_type": "execute_result"
    }
   ],
   "source": [
    "model.fit(trainset)\n",
    "pred = model.test(testset)\n",
    "rmse(pred),mae(pred)"
   ]
  },
  {
   "cell_type": "code",
   "execution_count": 66,
   "metadata": {},
   "outputs": [
    {
     "data": {
      "text/html": [
       "<div>\n",
       "<style scoped>\n",
       "    .dataframe tbody tr th:only-of-type {\n",
       "        vertical-align: middle;\n",
       "    }\n",
       "\n",
       "    .dataframe tbody tr th {\n",
       "        vertical-align: top;\n",
       "    }\n",
       "\n",
       "    .dataframe thead th {\n",
       "        text-align: right;\n",
       "    }\n",
       "</style>\n",
       "<table border=\"1\" class=\"dataframe\">\n",
       "  <thead>\n",
       "    <tr style=\"text-align: right;\">\n",
       "      <th></th>\n",
       "      <th>test_rmse</th>\n",
       "      <th>test_mae</th>\n",
       "      <th>fit_time</th>\n",
       "      <th>test_time</th>\n",
       "    </tr>\n",
       "  </thead>\n",
       "  <tbody>\n",
       "    <tr>\n",
       "      <th>0</th>\n",
       "      <td>1.570406</td>\n",
       "      <td>1.173363</td>\n",
       "      <td>0.007007</td>\n",
       "      <td>0.017016</td>\n",
       "    </tr>\n",
       "    <tr>\n",
       "      <th>1</th>\n",
       "      <td>1.654037</td>\n",
       "      <td>1.245225</td>\n",
       "      <td>0.007006</td>\n",
       "      <td>0.017015</td>\n",
       "    </tr>\n",
       "    <tr>\n",
       "      <th>2</th>\n",
       "      <td>1.491464</td>\n",
       "      <td>1.134024</td>\n",
       "      <td>0.007006</td>\n",
       "      <td>0.017016</td>\n",
       "    </tr>\n",
       "    <tr>\n",
       "      <th>3</th>\n",
       "      <td>1.500097</td>\n",
       "      <td>1.122147</td>\n",
       "      <td>0.007006</td>\n",
       "      <td>0.016015</td>\n",
       "    </tr>\n",
       "    <tr>\n",
       "      <th>4</th>\n",
       "      <td>1.512315</td>\n",
       "      <td>1.140657</td>\n",
       "      <td>0.007006</td>\n",
       "      <td>0.017015</td>\n",
       "    </tr>\n",
       "  </tbody>\n",
       "</table>\n",
       "</div>"
      ],
      "text/plain": [
       "   test_rmse  test_mae  fit_time  test_time\n",
       "0   1.570406  1.173363  0.007007   0.017016\n",
       "1   1.654037  1.245225  0.007006   0.017015\n",
       "2   1.491464  1.134024  0.007006   0.017016\n",
       "3   1.500097  1.122147  0.007006   0.016015\n",
       "4   1.512315  1.140657  0.007006   0.017015"
      ]
     },
     "execution_count": 66,
     "metadata": {},
     "output_type": "execute_result"
    }
   ],
   "source": [
    "pd.DataFrame(cv_results)"
   ]
  },
  {
   "cell_type": "code",
   "execution_count": 67,
   "metadata": {},
   "outputs": [],
   "source": [
    "rmse_mae_results.append((\"means\",cv_results[\"test_rmse\"].mean(),cv_results[\"test_mae\"].mean()))"
   ]
  },
  {
   "cell_type": "markdown",
   "metadata": {},
   "source": [
    "Effettuiamo l'analisi proposta precedentemente utilizzando pearson invece che la similarità coseno per gli item invece che gli user."
   ]
  },
  {
   "cell_type": "code",
   "execution_count": 68,
   "metadata": {},
   "outputs": [
    {
     "name": "stdout",
     "output_type": "stream",
     "text": [
      "Computing the cosine similarity matrix...\n",
      "Done computing similarity matrix.\n",
      "Computing the cosine similarity matrix...\n",
      "Done computing similarity matrix.\n",
      "Computing the cosine similarity matrix...\n",
      "Done computing similarity matrix.\n",
      "Computing the cosine similarity matrix...\n",
      "Done computing similarity matrix.\n",
      "Computing the cosine similarity matrix...\n",
      "Done computing similarity matrix.\n"
     ]
    }
   ],
   "source": [
    "model = KNNBasic(k=10, sim_options={\"name\": \"cosine\", \"user_based\": False})\n",
    "cv_results = cross_validate(model, data, cv=kf)"
   ]
  },
  {
   "cell_type": "code",
   "execution_count": 69,
   "metadata": {},
   "outputs": [
    {
     "name": "stdout",
     "output_type": "stream",
     "text": [
      "Computing the cosine similarity matrix...\n",
      "Done computing similarity matrix.\n",
      "RMSE: 1.6350\n",
      "MAE:  1.2212\n"
     ]
    },
    {
     "data": {
      "text/plain": [
       "(1.6349614703975326, 1.221180728231888)"
      ]
     },
     "execution_count": 69,
     "metadata": {},
     "output_type": "execute_result"
    }
   ],
   "source": [
    "model.fit(trainset)\n",
    "pred = model.test(testset)\n",
    "rmse(pred),mae(pred)"
   ]
  },
  {
   "cell_type": "code",
   "execution_count": 70,
   "metadata": {},
   "outputs": [
    {
     "data": {
      "text/html": [
       "<div>\n",
       "<style scoped>\n",
       "    .dataframe tbody tr th:only-of-type {\n",
       "        vertical-align: middle;\n",
       "    }\n",
       "\n",
       "    .dataframe tbody tr th {\n",
       "        vertical-align: top;\n",
       "    }\n",
       "\n",
       "    .dataframe thead th {\n",
       "        text-align: right;\n",
       "    }\n",
       "</style>\n",
       "<table border=\"1\" class=\"dataframe\">\n",
       "  <thead>\n",
       "    <tr style=\"text-align: right;\">\n",
       "      <th></th>\n",
       "      <th>test_rmse</th>\n",
       "      <th>test_mae</th>\n",
       "      <th>fit_time</th>\n",
       "      <th>test_time</th>\n",
       "    </tr>\n",
       "  </thead>\n",
       "  <tbody>\n",
       "    <tr>\n",
       "      <th>0</th>\n",
       "      <td>1.645164</td>\n",
       "      <td>1.222725</td>\n",
       "      <td>0.389354</td>\n",
       "      <td>0.083076</td>\n",
       "    </tr>\n",
       "    <tr>\n",
       "      <th>1</th>\n",
       "      <td>1.719215</td>\n",
       "      <td>1.275514</td>\n",
       "      <td>0.384310</td>\n",
       "      <td>0.081074</td>\n",
       "    </tr>\n",
       "    <tr>\n",
       "      <th>2</th>\n",
       "      <td>1.537597</td>\n",
       "      <td>1.162205</td>\n",
       "      <td>0.404368</td>\n",
       "      <td>0.080072</td>\n",
       "    </tr>\n",
       "    <tr>\n",
       "      <th>3</th>\n",
       "      <td>1.589738</td>\n",
       "      <td>1.187023</td>\n",
       "      <td>0.388353</td>\n",
       "      <td>0.085078</td>\n",
       "    </tr>\n",
       "    <tr>\n",
       "      <th>4</th>\n",
       "      <td>1.572243</td>\n",
       "      <td>1.179754</td>\n",
       "      <td>0.399363</td>\n",
       "      <td>0.089082</td>\n",
       "    </tr>\n",
       "  </tbody>\n",
       "</table>\n",
       "</div>"
      ],
      "text/plain": [
       "   test_rmse  test_mae  fit_time  test_time\n",
       "0   1.645164  1.222725  0.389354   0.083076\n",
       "1   1.719215  1.275514  0.384310   0.081074\n",
       "2   1.537597  1.162205  0.404368   0.080072\n",
       "3   1.589738  1.187023  0.388353   0.085078\n",
       "4   1.572243  1.179754  0.399363   0.089082"
      ]
     },
     "execution_count": 70,
     "metadata": {},
     "output_type": "execute_result"
    }
   ],
   "source": [
    "pd.DataFrame(cv_results)"
   ]
  },
  {
   "cell_type": "code",
   "execution_count": 71,
   "metadata": {},
   "outputs": [],
   "source": [
    "rmse_mae_results.append((\"item\",cv_results[\"test_rmse\"].mean(),cv_results[\"test_mae\"].mean()))"
   ]
  },
  {
   "cell_type": "code",
   "execution_count": 72,
   "metadata": {},
   "outputs": [],
   "source": [
    "from surprise import NormalPredictor\n",
    "model = NormalPredictor()\n",
    "cv_results = cross_validate(model, data, cv=kf)"
   ]
  },
  {
   "cell_type": "code",
   "execution_count": 73,
   "metadata": {},
   "outputs": [
    {
     "name": "stdout",
     "output_type": "stream",
     "text": [
      "RMSE: 2.4780\n",
      "MAE:  1.9151\n"
     ]
    },
    {
     "data": {
      "text/plain": [
       "(2.478043724613729, 1.9151162223294746)"
      ]
     },
     "execution_count": 73,
     "metadata": {},
     "output_type": "execute_result"
    }
   ],
   "source": [
    "model.fit(trainset)\n",
    "pred = model.test(testset)\n",
    "rmse(pred),mae(pred)"
   ]
  },
  {
   "cell_type": "code",
   "execution_count": 74,
   "metadata": {},
   "outputs": [
    {
     "data": {
      "text/html": [
       "<div>\n",
       "<style scoped>\n",
       "    .dataframe tbody tr th:only-of-type {\n",
       "        vertical-align: middle;\n",
       "    }\n",
       "\n",
       "    .dataframe tbody tr th {\n",
       "        vertical-align: top;\n",
       "    }\n",
       "\n",
       "    .dataframe thead th {\n",
       "        text-align: right;\n",
       "    }\n",
       "</style>\n",
       "<table border=\"1\" class=\"dataframe\">\n",
       "  <thead>\n",
       "    <tr style=\"text-align: right;\">\n",
       "      <th></th>\n",
       "      <th>test_rmse</th>\n",
       "      <th>test_mae</th>\n",
       "      <th>fit_time</th>\n",
       "      <th>test_time</th>\n",
       "    </tr>\n",
       "  </thead>\n",
       "  <tbody>\n",
       "    <tr>\n",
       "      <th>0</th>\n",
       "      <td>2.608821</td>\n",
       "      <td>2.013501</td>\n",
       "      <td>0.004003</td>\n",
       "      <td>0.007011</td>\n",
       "    </tr>\n",
       "    <tr>\n",
       "      <th>1</th>\n",
       "      <td>2.612995</td>\n",
       "      <td>2.018082</td>\n",
       "      <td>0.005005</td>\n",
       "      <td>0.006005</td>\n",
       "    </tr>\n",
       "    <tr>\n",
       "      <th>2</th>\n",
       "      <td>2.522264</td>\n",
       "      <td>1.966305</td>\n",
       "      <td>0.005005</td>\n",
       "      <td>0.006005</td>\n",
       "    </tr>\n",
       "    <tr>\n",
       "      <th>3</th>\n",
       "      <td>2.619322</td>\n",
       "      <td>2.056125</td>\n",
       "      <td>0.005004</td>\n",
       "      <td>0.006006</td>\n",
       "    </tr>\n",
       "    <tr>\n",
       "      <th>4</th>\n",
       "      <td>2.567840</td>\n",
       "      <td>2.007459</td>\n",
       "      <td>0.005005</td>\n",
       "      <td>0.006005</td>\n",
       "    </tr>\n",
       "  </tbody>\n",
       "</table>\n",
       "</div>"
      ],
      "text/plain": [
       "   test_rmse  test_mae  fit_time  test_time\n",
       "0   2.608821  2.013501  0.004003   0.007011\n",
       "1   2.612995  2.018082  0.005005   0.006005\n",
       "2   2.522264  1.966305  0.005005   0.006005\n",
       "3   2.619322  2.056125  0.005004   0.006006\n",
       "4   2.567840  2.007459  0.005005   0.006005"
      ]
     },
     "execution_count": 74,
     "metadata": {},
     "output_type": "execute_result"
    }
   ],
   "source": [
    "pd.DataFrame(cv_results)"
   ]
  },
  {
   "cell_type": "code",
   "execution_count": 75,
   "metadata": {},
   "outputs": [],
   "source": [
    "rmse_mae_results.append((\"normal\",cv_results[\"test_rmse\"].mean(),cv_results[\"test_mae\"].mean()))"
   ]
  },
  {
   "cell_type": "code",
   "execution_count": 76,
   "metadata": {},
   "outputs": [],
   "source": [
    "from surprise import SVD\n",
    "model = SVD(n_factors=10, random_state=42)\n",
    "cv_results = cross_validate(model, data, cv=kf)"
   ]
  },
  {
   "cell_type": "code",
   "execution_count": 77,
   "metadata": {},
   "outputs": [
    {
     "name": "stdout",
     "output_type": "stream",
     "text": [
      "RMSE: 1.3910\n",
      "MAE:  1.0620\n"
     ]
    },
    {
     "data": {
      "text/plain": [
       "(1.3910259388216153, 1.06202134519081)"
      ]
     },
     "execution_count": 77,
     "metadata": {},
     "output_type": "execute_result"
    }
   ],
   "source": [
    "model.fit(trainset)\n",
    "pred = model.test(testset)\n",
    "rmse(pred),mae(pred)"
   ]
  },
  {
   "cell_type": "code",
   "execution_count": 78,
   "metadata": {},
   "outputs": [
    {
     "data": {
      "text/html": [
       "<div>\n",
       "<style scoped>\n",
       "    .dataframe tbody tr th:only-of-type {\n",
       "        vertical-align: middle;\n",
       "    }\n",
       "\n",
       "    .dataframe tbody tr th {\n",
       "        vertical-align: top;\n",
       "    }\n",
       "\n",
       "    .dataframe thead th {\n",
       "        text-align: right;\n",
       "    }\n",
       "</style>\n",
       "<table border=\"1\" class=\"dataframe\">\n",
       "  <thead>\n",
       "    <tr style=\"text-align: right;\">\n",
       "      <th></th>\n",
       "      <th>test_rmse</th>\n",
       "      <th>test_mae</th>\n",
       "      <th>fit_time</th>\n",
       "      <th>test_time</th>\n",
       "    </tr>\n",
       "  </thead>\n",
       "  <tbody>\n",
       "    <tr>\n",
       "      <th>0</th>\n",
       "      <td>1.387788</td>\n",
       "      <td>1.059755</td>\n",
       "      <td>0.062056</td>\n",
       "      <td>0.007007</td>\n",
       "    </tr>\n",
       "    <tr>\n",
       "      <th>1</th>\n",
       "      <td>1.494905</td>\n",
       "      <td>1.143480</td>\n",
       "      <td>0.064058</td>\n",
       "      <td>0.006006</td>\n",
       "    </tr>\n",
       "    <tr>\n",
       "      <th>2</th>\n",
       "      <td>1.367688</td>\n",
       "      <td>1.042314</td>\n",
       "      <td>0.063057</td>\n",
       "      <td>0.006006</td>\n",
       "    </tr>\n",
       "    <tr>\n",
       "      <th>3</th>\n",
       "      <td>1.384007</td>\n",
       "      <td>1.059965</td>\n",
       "      <td>0.064058</td>\n",
       "      <td>0.006071</td>\n",
       "    </tr>\n",
       "    <tr>\n",
       "      <th>4</th>\n",
       "      <td>1.365095</td>\n",
       "      <td>1.030787</td>\n",
       "      <td>0.063930</td>\n",
       "      <td>0.006005</td>\n",
       "    </tr>\n",
       "  </tbody>\n",
       "</table>\n",
       "</div>"
      ],
      "text/plain": [
       "   test_rmse  test_mae  fit_time  test_time\n",
       "0   1.387788  1.059755  0.062056   0.007007\n",
       "1   1.494905  1.143480  0.064058   0.006006\n",
       "2   1.367688  1.042314  0.063057   0.006006\n",
       "3   1.384007  1.059965  0.064058   0.006071\n",
       "4   1.365095  1.030787  0.063930   0.006005"
      ]
     },
     "execution_count": 78,
     "metadata": {},
     "output_type": "execute_result"
    }
   ],
   "source": [
    "pd.DataFrame(cv_results)"
   ]
  },
  {
   "cell_type": "code",
   "execution_count": 79,
   "metadata": {},
   "outputs": [],
   "source": [
    "rmse_mae_results.append((\"SVD\",cv_results[\"test_rmse\"].mean(),cv_results[\"test_mae\"].mean()))"
   ]
  },
  {
   "cell_type": "code",
   "execution_count": 80,
   "metadata": {},
   "outputs": [],
   "source": [
    "plot_preparation = []\n",
    "for n in rmse_mae_results :\n",
    "    plot_preparation.append(n[1])\n",
    "plot_preparation.sort()"
   ]
  },
  {
   "cell_type": "markdown",
   "metadata": {},
   "source": [
    "Grafico di confronto valori di RMSE"
   ]
  },
  {
   "cell_type": "code",
   "execution_count": 81,
   "metadata": {},
   "outputs": [
    {
     "data": {
      "text/plain": [
       "<BarContainer object of 7 artists>"
      ]
     },
     "execution_count": 81,
     "metadata": {},
     "output_type": "execute_result"
    },
    {
     "data": {
      "image/png": "[encoded data removed]",
      "text/plain": [
       "<Figure size 432x288 with 1 Axes>"
      ]
     },
     "metadata": {
      "needs_background": "light"
     },
     "output_type": "display_data"
    }
   ],
   "source": [
    "plt.bar([\"svd\",\"means\",\"item\",\"basic\",\"manual\",\"pearson\",\"normal\"], plot_preparation) "
   ]
  },
  {
   "cell_type": "code",
   "execution_count": 82,
   "metadata": {},
   "outputs": [],
   "source": [
    "plot_preparation = []\n",
    "for n in rmse_mae_results :\n",
    "    plot_preparation.append(n[2])\n",
    "plot_preparation.sort()"
   ]
  },
  {
   "cell_type": "code",
   "execution_count": 83,
   "metadata": {},
   "outputs": [
    {
     "data": {
      "text/plain": [
       "<BarContainer object of 7 artists>"
      ]
     },
     "execution_count": 83,
     "metadata": {},
     "output_type": "execute_result"
    },
    {
     "data": {
      "image/png": "[encoded data removed]",
      "text/plain": [
       "<Figure size 432x288 with 1 Axes>"
      ]
     },
     "metadata": {
      "needs_background": "light"
     },
     "output_type": "display_data"
    }
   ],
   "source": [
    "plt.bar([\"svd\",\"means\",\"item\",\"manual\",\"basic\",\"pearson\",\"normal\"], plot_preparation) "
   ]
  },
  {
   "cell_type": "markdown",
   "metadata": {},
   "source": [
    "Possiamo concludere che l'algoritmo migliore nel nostro caso è SVD poichè è quello che genera RMSE e MAE minori.\n",
    "A questo punto cerchiamo il numero di fattori migliori per SVD."
   ]
  },
  {
   "cell_type": "code",
   "execution_count": 84,
   "metadata": {},
   "outputs": [],
   "source": [
    "grid = {\n",
    "    \"n_factors\": [5, 10, 20,30,40,50,60,70,80,90,100],\n",
    "    \"random_state\" :[859]\n",
    "}"
   ]
  },
  {
   "cell_type": "code",
   "execution_count": 85,
   "metadata": {},
   "outputs": [],
   "source": [
    "from surprise.model_selection import GridSearchCV\n",
    "gs = GridSearchCV(SVD, grid, cv=kf, refit=True)"
   ]
  },
  {
   "cell_type": "markdown",
   "metadata": {},
   "source": [
    "Attraverso l'attributo best_params di gs otteniamo qual'e il numero di fattori migliore"
   ]
  },
  {
   "cell_type": "code",
   "execution_count": 86,
   "metadata": {},
   "outputs": [],
   "source": [
    "gs.fit(data)"
   ]
  },
  {
   "cell_type": "code",
   "execution_count": 87,
   "metadata": {},
   "outputs": [
    {
     "data": {
      "text/plain": [
       "{'rmse': {'n_factors': 40, 'random_state': 859},\n",
       " 'mae': {'n_factors': 40, 'random_state': 859}}"
      ]
     },
     "execution_count": 87,
     "metadata": {},
     "output_type": "execute_result"
    }
   ],
   "source": [
    "gs.best_params"
   ]
  },
  {
   "cell_type": "markdown",
   "metadata": {},
   "source": [
    "Visualizziamo adesso i valori medi degli RMSE e MAE ottenuti a seconda degli n fattori specificati ."
   ]
  },
  {
   "cell_type": "code",
   "execution_count": 88,
   "metadata": {},
   "outputs": [
    {
     "data": {
      "text/html": [
       "<div>\n",
       "<style scoped>\n",
       "    .dataframe tbody tr th:only-of-type {\n",
       "        vertical-align: middle;\n",
       "    }\n",
       "\n",
       "    .dataframe tbody tr th {\n",
       "        vertical-align: top;\n",
       "    }\n",
       "\n",
       "    .dataframe thead th {\n",
       "        text-align: right;\n",
       "    }\n",
       "</style>\n",
       "<table border=\"1\" class=\"dataframe\">\n",
       "  <thead>\n",
       "    <tr style=\"text-align: right;\">\n",
       "      <th></th>\n",
       "      <th>split0_test_rmse</th>\n",
       "      <th>split1_test_rmse</th>\n",
       "      <th>split2_test_rmse</th>\n",
       "      <th>split3_test_rmse</th>\n",
       "      <th>split4_test_rmse</th>\n",
       "      <th>mean_test_rmse</th>\n",
       "      <th>std_test_rmse</th>\n",
       "      <th>rank_test_rmse</th>\n",
       "      <th>split0_test_mae</th>\n",
       "      <th>split1_test_mae</th>\n",
       "      <th>...</th>\n",
       "      <th>mean_test_mae</th>\n",
       "      <th>std_test_mae</th>\n",
       "      <th>rank_test_mae</th>\n",
       "      <th>mean_fit_time</th>\n",
       "      <th>std_fit_time</th>\n",
       "      <th>mean_test_time</th>\n",
       "      <th>std_test_time</th>\n",
       "      <th>params</th>\n",
       "      <th>param_n_factors</th>\n",
       "      <th>param_random_state</th>\n",
       "    </tr>\n",
       "  </thead>\n",
       "  <tbody>\n",
       "    <tr>\n",
       "      <th>4</th>\n",
       "      <td>1.378975</td>\n",
       "      <td>1.478447</td>\n",
       "      <td>1.338481</td>\n",
       "      <td>1.379718</td>\n",
       "      <td>1.344548</td>\n",
       "      <td>1.384034</td>\n",
       "      <td>0.050184</td>\n",
       "      <td>1</td>\n",
       "      <td>1.050796</td>\n",
       "      <td>1.135401</td>\n",
       "      <td>...</td>\n",
       "      <td>1.057473</td>\n",
       "      <td>0.042053</td>\n",
       "      <td>1</td>\n",
       "      <td>0.109700</td>\n",
       "      <td>0.001498</td>\n",
       "      <td>0.006206</td>\n",
       "      <td>4.002573e-04</td>\n",
       "      <td>{'n_factors': 40, 'random_state': 859}</td>\n",
       "      <td>40</td>\n",
       "      <td>859</td>\n",
       "    </tr>\n",
       "    <tr>\n",
       "      <th>3</th>\n",
       "      <td>1.384828</td>\n",
       "      <td>1.486666</td>\n",
       "      <td>1.361202</td>\n",
       "      <td>1.367437</td>\n",
       "      <td>1.344662</td>\n",
       "      <td>1.388959</td>\n",
       "      <td>0.050517</td>\n",
       "      <td>2</td>\n",
       "      <td>1.055730</td>\n",
       "      <td>1.135467</td>\n",
       "      <td>...</td>\n",
       "      <td>1.060426</td>\n",
       "      <td>0.039469</td>\n",
       "      <td>2</td>\n",
       "      <td>0.093285</td>\n",
       "      <td>0.001328</td>\n",
       "      <td>0.006206</td>\n",
       "      <td>4.001856e-04</td>\n",
       "      <td>{'n_factors': 30, 'random_state': 859}</td>\n",
       "      <td>30</td>\n",
       "      <td>859</td>\n",
       "    </tr>\n",
       "    <tr>\n",
       "      <th>9</th>\n",
       "      <td>1.378525</td>\n",
       "      <td>1.492633</td>\n",
       "      <td>1.342237</td>\n",
       "      <td>1.380188</td>\n",
       "      <td>1.351818</td>\n",
       "      <td>1.389080</td>\n",
       "      <td>0.053845</td>\n",
       "      <td>3</td>\n",
       "      <td>1.051906</td>\n",
       "      <td>1.140488</td>\n",
       "      <td>...</td>\n",
       "      <td>1.062500</td>\n",
       "      <td>0.041194</td>\n",
       "      <td>3</td>\n",
       "      <td>0.179163</td>\n",
       "      <td>0.001550</td>\n",
       "      <td>0.006206</td>\n",
       "      <td>4.003049e-04</td>\n",
       "      <td>{'n_factors': 90, 'random_state': 859}</td>\n",
       "      <td>90</td>\n",
       "      <td>859</td>\n",
       "    </tr>\n",
       "    <tr>\n",
       "      <th>8</th>\n",
       "      <td>1.386685</td>\n",
       "      <td>1.477328</td>\n",
       "      <td>1.352817</td>\n",
       "      <td>1.384164</td>\n",
       "      <td>1.351753</td>\n",
       "      <td>1.390549</td>\n",
       "      <td>0.045859</td>\n",
       "      <td>4</td>\n",
       "      <td>1.062610</td>\n",
       "      <td>1.142108</td>\n",
       "      <td>...</td>\n",
       "      <td>1.068718</td>\n",
       "      <td>0.039834</td>\n",
       "      <td>8</td>\n",
       "      <td>0.164738</td>\n",
       "      <td>0.001977</td>\n",
       "      <td>0.006216</td>\n",
       "      <td>3.960189e-04</td>\n",
       "      <td>{'n_factors': 80, 'random_state': 859}</td>\n",
       "      <td>80</td>\n",
       "      <td>859</td>\n",
       "    </tr>\n",
       "    <tr>\n",
       "      <th>0</th>\n",
       "      <td>1.373847</td>\n",
       "      <td>1.473147</td>\n",
       "      <td>1.364495</td>\n",
       "      <td>1.384849</td>\n",
       "      <td>1.370110</td>\n",
       "      <td>1.393289</td>\n",
       "      <td>0.040480</td>\n",
       "      <td>5</td>\n",
       "      <td>1.050568</td>\n",
       "      <td>1.131132</td>\n",
       "      <td>...</td>\n",
       "      <td>1.064788</td>\n",
       "      <td>0.034678</td>\n",
       "      <td>4</td>\n",
       "      <td>0.054304</td>\n",
       "      <td>0.000742</td>\n",
       "      <td>0.006219</td>\n",
       "      <td>4.090021e-04</td>\n",
       "      <td>{'n_factors': 5, 'random_state': 859}</td>\n",
       "      <td>5</td>\n",
       "      <td>859</td>\n",
       "    </tr>\n",
       "    <tr>\n",
       "      <th>10</th>\n",
       "      <td>1.381188</td>\n",
       "      <td>1.493321</td>\n",
       "      <td>1.357707</td>\n",
       "      <td>1.391566</td>\n",
       "      <td>1.354353</td>\n",
       "      <td>1.395627</td>\n",
       "      <td>0.050815</td>\n",
       "      <td>6</td>\n",
       "      <td>1.057019</td>\n",
       "      <td>1.141152</td>\n",
       "      <td>...</td>\n",
       "      <td>1.069711</td>\n",
       "      <td>0.038299</td>\n",
       "      <td>9</td>\n",
       "      <td>0.196979</td>\n",
       "      <td>0.005197</td>\n",
       "      <td>0.006206</td>\n",
       "      <td>4.004002e-04</td>\n",
       "      <td>{'n_factors': 100, 'random_state': 859}</td>\n",
       "      <td>100</td>\n",
       "      <td>859</td>\n",
       "    </tr>\n",
       "    <tr>\n",
       "      <th>2</th>\n",
       "      <td>1.379553</td>\n",
       "      <td>1.487760</td>\n",
       "      <td>1.362578</td>\n",
       "      <td>1.389254</td>\n",
       "      <td>1.361944</td>\n",
       "      <td>1.396218</td>\n",
       "      <td>0.046931</td>\n",
       "      <td>7</td>\n",
       "      <td>1.049566</td>\n",
       "      <td>1.137777</td>\n",
       "      <td>...</td>\n",
       "      <td>1.066255</td>\n",
       "      <td>0.037184</td>\n",
       "      <td>7</td>\n",
       "      <td>0.079472</td>\n",
       "      <td>0.002156</td>\n",
       "      <td>0.006406</td>\n",
       "      <td>4.906217e-04</td>\n",
       "      <td>{'n_factors': 20, 'random_state': 859}</td>\n",
       "      <td>20</td>\n",
       "      <td>859</td>\n",
       "    </tr>\n",
       "    <tr>\n",
       "      <th>1</th>\n",
       "      <td>1.387485</td>\n",
       "      <td>1.489557</td>\n",
       "      <td>1.357660</td>\n",
       "      <td>1.380504</td>\n",
       "      <td>1.367767</td>\n",
       "      <td>1.396595</td>\n",
       "      <td>0.047604</td>\n",
       "      <td>8</td>\n",
       "      <td>1.055160</td>\n",
       "      <td>1.143245</td>\n",
       "      <td>...</td>\n",
       "      <td>1.066107</td>\n",
       "      <td>0.039997</td>\n",
       "      <td>6</td>\n",
       "      <td>0.062864</td>\n",
       "      <td>0.001163</td>\n",
       "      <td>0.006206</td>\n",
       "      <td>4.004240e-04</td>\n",
       "      <td>{'n_factors': 10, 'random_state': 859}</td>\n",
       "      <td>10</td>\n",
       "      <td>859</td>\n",
       "    </tr>\n",
       "    <tr>\n",
       "      <th>5</th>\n",
       "      <td>1.396780</td>\n",
       "      <td>1.486902</td>\n",
       "      <td>1.352057</td>\n",
       "      <td>1.386638</td>\n",
       "      <td>1.372940</td>\n",
       "      <td>1.399063</td>\n",
       "      <td>0.046406</td>\n",
       "      <td>9</td>\n",
       "      <td>1.060523</td>\n",
       "      <td>1.136405</td>\n",
       "      <td>...</td>\n",
       "      <td>1.065831</td>\n",
       "      <td>0.037635</td>\n",
       "      <td>5</td>\n",
       "      <td>0.127498</td>\n",
       "      <td>0.004941</td>\n",
       "      <td>0.006406</td>\n",
       "      <td>4.904270e-04</td>\n",
       "      <td>{'n_factors': 50, 'random_state': 859}</td>\n",
       "      <td>50</td>\n",
       "      <td>859</td>\n",
       "    </tr>\n",
       "    <tr>\n",
       "      <th>7</th>\n",
       "      <td>1.392626</td>\n",
       "      <td>1.492077</td>\n",
       "      <td>1.365813</td>\n",
       "      <td>1.381156</td>\n",
       "      <td>1.377198</td>\n",
       "      <td>1.401774</td>\n",
       "      <td>0.045958</td>\n",
       "      <td>10</td>\n",
       "      <td>1.058213</td>\n",
       "      <td>1.147737</td>\n",
       "      <td>...</td>\n",
       "      <td>1.070999</td>\n",
       "      <td>0.039534</td>\n",
       "      <td>11</td>\n",
       "      <td>0.150325</td>\n",
       "      <td>0.000984</td>\n",
       "      <td>0.006205</td>\n",
       "      <td>4.001141e-04</td>\n",
       "      <td>{'n_factors': 70, 'random_state': 859}</td>\n",
       "      <td>70</td>\n",
       "      <td>859</td>\n",
       "    </tr>\n",
       "    <tr>\n",
       "      <th>6</th>\n",
       "      <td>1.393524</td>\n",
       "      <td>1.515838</td>\n",
       "      <td>1.365055</td>\n",
       "      <td>1.378906</td>\n",
       "      <td>1.364662</td>\n",
       "      <td>1.403597</td>\n",
       "      <td>0.057115</td>\n",
       "      <td>11</td>\n",
       "      <td>1.059981</td>\n",
       "      <td>1.156654</td>\n",
       "      <td>...</td>\n",
       "      <td>1.069927</td>\n",
       "      <td>0.044519</td>\n",
       "      <td>10</td>\n",
       "      <td>0.136324</td>\n",
       "      <td>0.003432</td>\n",
       "      <td>0.006005</td>\n",
       "      <td>1.784161e-07</td>\n",
       "      <td>{'n_factors': 60, 'random_state': 859}</td>\n",
       "      <td>60</td>\n",
       "      <td>859</td>\n",
       "    </tr>\n",
       "  </tbody>\n",
       "</table>\n",
       "<p>11 rows × 23 columns</p>\n",
       "</div>"
      ],
      "text/plain": [
       "    split0_test_rmse  split1_test_rmse  split2_test_rmse  split3_test_rmse  \\\n",
       "4           1.378975          1.478447          1.338481          1.379718   \n",
       "3           1.384828          1.486666          1.361202          1.367437   \n",
       "9           1.378525          1.492633          1.342237          1.380188   \n",
       "8           1.386685          1.477328          1.352817          1.384164   \n",
       "0           1.373847          1.473147          1.364495          1.384849   \n",
       "10          1.381188          1.493321          1.357707          1.391566   \n",
       "2           1.379553          1.487760          1.362578          1.389254   \n",
       "1           1.387485          1.489557          1.357660          1.380504   \n",
       "5           1.396780          1.486902          1.352057          1.386638   \n",
       "7           1.392626          1.492077          1.365813          1.381156   \n",
       "6           1.393524          1.515838          1.365055          1.378906   \n",
       "\n",
       "    split4_test_rmse  mean_test_rmse  std_test_rmse  rank_test_rmse  \\\n",
       "4           1.344548        1.384034       0.050184               1   \n",
       "3           1.344662        1.388959       0.050517               2   \n",
       "9           1.351818        1.389080       0.053845               3   \n",
       "8           1.351753        1.390549       0.045859               4   \n",
       "0           1.370110        1.393289       0.040480               5   \n",
       "10          1.354353        1.395627       0.050815               6   \n",
       "2           1.361944        1.396218       0.046931               7   \n",
       "1           1.367767        1.396595       0.047604               8   \n",
       "5           1.372940        1.399063       0.046406               9   \n",
       "7           1.377198        1.401774       0.045958              10   \n",
       "6           1.364662        1.403597       0.057115              11   \n",
       "\n",
       "    split0_test_mae  split1_test_mae  ...  mean_test_mae  std_test_mae  \\\n",
       "4          1.050796         1.135401  ...       1.057473      0.042053   \n",
       "3          1.055730         1.135467  ...       1.060426      0.039469   \n",
       "9          1.051906         1.140488  ...       1.062500      0.041194   \n",
       "8          1.062610         1.142108  ...       1.068718      0.039834   \n",
       "0          1.050568         1.131132  ...       1.064788      0.034678   \n",
       "10         1.057019         1.141152  ...       1.069711      0.038299   \n",
       "2          1.049566         1.137777  ...       1.066255      0.037184   \n",
       "1          1.055160         1.143245  ...       1.066107      0.039997   \n",
       "5          1.060523         1.136405  ...       1.065831      0.037635   \n",
       "7          1.058213         1.147737  ...       1.070999      0.039534   \n",
       "6          1.059981         1.156654  ...       1.069927      0.044519   \n",
       "\n",
       "    rank_test_mae  mean_fit_time  std_fit_time  mean_test_time  std_test_time  \\\n",
       "4               1       0.109700      0.001498        0.006206   4.002573e-04   \n",
       "3               2       0.093285      0.001328        0.006206   4.001856e-04   \n",
       "9               3       0.179163      0.001550        0.006206   4.003049e-04   \n",
       "8               8       0.164738      0.001977        0.006216   3.960189e-04   \n",
       "0               4       0.054304      0.000742        0.006219   4.090021e-04   \n",
       "10              9       0.196979      0.005197        0.006206   4.004002e-04   \n",
       "2               7       0.079472      0.002156        0.006406   4.906217e-04   \n",
       "1               6       0.062864      0.001163        0.006206   4.004240e-04   \n",
       "5               5       0.127498      0.004941        0.006406   4.904270e-04   \n",
       "7              11       0.150325      0.000984        0.006205   4.001141e-04   \n",
       "6              10       0.136324      0.003432        0.006005   1.784161e-07   \n",
       "\n",
       "                                     params  param_n_factors  \\\n",
       "4    {'n_factors': 40, 'random_state': 859}               40   \n",
       "3    {'n_factors': 30, 'random_state': 859}               30   \n",
       "9    {'n_factors': 90, 'random_state': 859}               90   \n",
       "8    {'n_factors': 80, 'random_state': 859}               80   \n",
       "0     {'n_factors': 5, 'random_state': 859}                5   \n",
       "10  {'n_factors': 100, 'random_state': 859}              100   \n",
       "2    {'n_factors': 20, 'random_state': 859}               20   \n",
       "1    {'n_factors': 10, 'random_state': 859}               10   \n",
       "5    {'n_factors': 50, 'random_state': 859}               50   \n",
       "7    {'n_factors': 70, 'random_state': 859}               70   \n",
       "6    {'n_factors': 60, 'random_state': 859}               60   \n",
       "\n",
       "    param_random_state  \n",
       "4                  859  \n",
       "3                  859  \n",
       "9                  859  \n",
       "8                  859  \n",
       "0                  859  \n",
       "10                 859  \n",
       "2                  859  \n",
       "1                  859  \n",
       "5                  859  \n",
       "7                  859  \n",
       "6                  859  \n",
       "\n",
       "[11 rows x 23 columns]"
      ]
     },
     "execution_count": 88,
     "metadata": {},
     "output_type": "execute_result"
    }
   ],
   "source": [
    "pd.DataFrame(gs.cv_results).sort_values(\"mean_test_rmse\")"
   ]
  },
  {
   "cell_type": "markdown",
   "metadata": {},
   "source": [
    "Creiamo ora una funzione che dato l'id di un utente gli consiglia i primi N anime."
   ]
  },
  {
   "cell_type": "code",
   "execution_count": 89,
   "metadata": {},
   "outputs": [],
   "source": [
    "def myFunc(a):\n",
    "    return a[1]\n",
    "def Recommend(uid):\n",
    "    rec = []\n",
    "    for n in np.unique(CleanDF[\"anime_id\"]):\n",
    "        rate = gs.predict(uid,n)[3]\n",
    "        idx = AnimeId(n)\n",
    "        name = AnimeDF.iloc[idx][\"name\"]\n",
    "        rec.append((name,rate))\n",
    "    return rec\n"
   ]
  },
  {
   "cell_type": "markdown",
   "metadata": {},
   "source": [
    "Facciamo una prova con l'utente 50 consigliandoli i primi 30 anime nella sua classifica delle predizioni."
   ]
  },
  {
   "cell_type": "code",
   "execution_count": 90,
   "metadata": {},
   "outputs": [
    {
     "data": {
      "text/plain": [
       "[('Fullmetal Alchemist: Brotherhood', 9.765082570769131),\n",
       " ('Steins;Gate', 9.369844405117423),\n",
       " ('Sen to Chihiro no Kamikakushi', 9.275300204129923),\n",
       " ('Clannad: After Story', 9.0374499516626),\n",
       " ('Kuroko no Basket 2nd Season', 9.037325219097458),\n",
       " ('Danshi Koukousei no Nichijou', 8.872449210031228),\n",
       " ('Code Geass: Hangyaku no Lelouch R2', 8.851524007961887),\n",
       " ('Tengen Toppa Gurren Lagann', 8.829232408134954),\n",
       " ('Shingeki no Kyojin', 8.815919585038277),\n",
       " ('Neon Genesis Evangelion: The End of Evangelion', 8.805748493989514),\n",
       " ('Detroit Metal City', 8.786011879193941),\n",
       " ('Kuroko no Basket', 8.75608714698486),\n",
       " ('JoJo no Kimyou na Bouken: Stardust Crusaders', 8.74748190814293),\n",
       " ('Howl no Ugoku Shiro', 8.732134300105955),\n",
       " ('Toki wo Kakeru Shoujo', 8.71703938640993),\n",
       " ('Monster', 8.710677444487848),\n",
       " ('Magi: The Kingdom of Magic', 8.698781478277436),\n",
       " ('Haikyuu!!', 8.694346396096847),\n",
       " ('Hotaru no Haka', 8.677935496597302),\n",
       " ('Code Geass: Hangyaku no Lelouch', 8.675378260335448),\n",
       " ('Hunter x Hunter (2011)', 8.657553552320152),\n",
       " ('JoJo no Kimyou na Bouken: Stardust Crusaders 2nd Season',\n",
       "  8.642864808841994),\n",
       " ('Rurouni Kenshin: Meiji Kenkaku Romantan - Tsuioku-hen', 8.640257309772373),\n",
       " ('Sakurasou no Pet na Kanojo', 8.609179391945318),\n",
       " ('Byousoku 5 Centimeter', 8.601527090858703),\n",
       " ('Dragon Ball', 8.582538156820657),\n",
       " ('Haikyuu!! Second Season', 8.577350944601209),\n",
       " ('Psycho-Pass', 8.57683024807229),\n",
       " ('Cowboy Bebop', 8.569019471768547),\n",
       " ('Gintama&#039;: Enchousen', 8.565690348156874)]"
      ]
     },
     "execution_count": 90,
     "metadata": {},
     "output_type": "execute_result"
    }
   ],
   "source": [
    "rec = Recommend(50)\n",
    "rec.sort(key=myFunc,reverse=True)\n",
    "rec[:30]"
   ]
  },
  {
   "cell_type": "markdown",
   "metadata": {},
   "source": [
    "<h1>6) Osservazioni finali :</h1>"
   ]
  },
  {
   "cell_type": "markdown",
   "metadata": {},
   "source": [
    "L'idea di base dello sviluppo del progetto era quella di realizzare previsioni più o meno affidabili sui voti che un utente darebbe a un anime con lo scopo di poter consigliare a un utente indeciso i prossimi anime da visionare, detto questo ci riteniamo soddisfatti con i risultati ottenuti considerando il pool di utenti selezionato.\n",
    "Inoltre ci è stato utile per capire a fondo il meccanismo di recommendation e per capire quali saranno i prossimi anime che guarderemo."
   ]
  }
 ],
 "metadata": {
  "kernelspec": {
   "display_name": "Python 3",
   "language": "python",
   "name": "python3"
  },
  "language_info": {
   "codemirror_mode": {
    "name": "ipython",
    "version": 3
   },
   "file_extension": ".py",
   "mimetype": "text/x-python",
   "name": "python",
   "nbconvert_exporter": "python",
   "pygments_lexer": "ipython3",
   "version": "3.7.4"
  }
 },
 "nbformat": 4,
 "nbformat_minor": 4
}
